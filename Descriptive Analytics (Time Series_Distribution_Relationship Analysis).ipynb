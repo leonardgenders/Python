{
 "cells": [
  {
   "cell_type": "markdown",
   "id": "4e07092b",
   "metadata": {
    "deletable": false,
    "editable": false
   },
   "source": [
    "<font color='red' size='6'>REMINDER</font>\n",
    "\n",
    "# Fill in any place that says `YOUR CODE HERE`.\n",
    "- You should remove the line that says `raise NotImplementedError()`. If you do not, your code will (unsurprisingly) throw a run-time error and cause everything to fail.\n",
    "- Do **NOT** write your answer anywhere else other than where it says `YOUR CODE HERE`. Simply write your code directly below this comment in the **same code cell**.\n",
    "\n",
    "# Make sure everything runs as expected.\n",
    "- Go to the menubar, select *Kernel* > *Restart & Run All*\n",
    "\n",
    "# Do <ins>NOT</ins> change the title (i.e., file name) of this notebook.\n",
    "\n",
    "# Do <ins>NOT</ins> delete any of the cells in this notebook.\n",
    "\n",
    "# Make sure you save your work\n",
    "- Go to the menubar, select *File* > *Save and Checkpoint*"
   ]
  },
  {
   "cell_type": "code",
   "execution_count": 1,
   "id": "bb7055f5",
   "metadata": {
    "deletable": false,
    "editable": false
   },
   "outputs": [],
   "source": [
    "# Run this code cell before attempting to validate\n",
    "from nose.tools import assert_equal, assert_in, assert_is_instance\n",
    "from nose.tools import assert_almost_equal, assert_not_equal"
   ]
  },
  {
   "cell_type": "markdown",
   "id": "edf78ec5",
   "metadata": {
    "deletable": false,
    "editable": false
   },
   "source": [
    "-----\n",
    "\n",
    "# Problem 1: Time Series Analysis\n",
    "\n",
    "Be sure to complete these steps in the order outlined below and in their appropriate code cells. There is file named `META.csv` in the subfolder `data`. It contains the trading data for the company Meta.\n",
    "\n",
    "1. Use `pandas` to read the file into a `DataFrame` named `meta`, being sure to use a `RangeIndex` and making sure any date columns come in as a true date object.\n",
    "2. Convert the column names to have all lower case characters. Replace any spaces between words with the underscore character. These changes should be reflected in the existing `meta` `DataFrame`.\n",
    "3. Change the index for `meta` to be the `date` column.\n",
    "4. Create a line plot of the for the closing price."
   ]
  },
  {
   "cell_type": "code",
   "execution_count": 2,
   "id": "0773529b",
   "metadata": {
    "deletable": false
   },
   "outputs": [],
   "source": [
    "# import pandas using the alias pd\n",
    "import pandas as pd\n",
    "\n",
    "# Use `pandas` to read the file into a `DataFrame` named `meta`, \n",
    "# being sure to use a `RangeIndex` and making sure any date \n",
    "# columns come in as a true date object.\n",
    "# YOUR CODE HERE\n",
    "meta = pd.read_csv('./data/META.csv', parse_dates=['Date'])"
   ]
  },
  {
   "cell_type": "code",
   "execution_count": 3,
   "id": "e1b647df",
   "metadata": {},
   "outputs": [
    {
     "name": "stdout",
     "output_type": "stream",
     "text": [
      "<class 'pandas.core.frame.DataFrame'>\n",
      "RangeIndex: 251 entries, 0 to 250\n",
      "Data columns (total 7 columns):\n",
      " #   Column     Non-Null Count  Dtype         \n",
      "---  ------     --------------  -----         \n",
      " 0   Date       251 non-null    datetime64[ns]\n",
      " 1   Open       251 non-null    float64       \n",
      " 2   High       251 non-null    float64       \n",
      " 3   Low        251 non-null    float64       \n",
      " 4   Close      251 non-null    float64       \n",
      " 5   Adj Close  251 non-null    float64       \n",
      " 6   Volume     251 non-null    int64         \n",
      "dtypes: datetime64[ns](1), float64(5), int64(1)\n",
      "memory usage: 13.9 KB\n"
     ]
    }
   ],
   "source": [
    "# confirm date is datetime64[ns] data type\n",
    "meta.info()"
   ]
  },
  {
   "cell_type": "code",
   "execution_count": 4,
   "id": "ec89391a-39f5-46db-9ea2-685bec1034bd",
   "metadata": {
    "deletable": false,
    "editable": false
   },
   "outputs": [],
   "source": [
    "# This is a test cell\n",
    "# If **NO** message is printed, it means that the tests passed\n",
    "# One basic test to see if your code works\n",
    "assert_equal(type(meta.index), pd.core.indexes.range.RangeIndex, msg='You did not use a RangeIndex when reading in the data as instructed.')\n",
    "import numpy as np\n",
    "assert_equal(meta.Date.dtype, np.dtype('<M8[ns]'), msg='You did not set the `Date` column as a datetime[ns] data type')"
   ]
  },
  {
   "cell_type": "code",
   "execution_count": 5,
   "id": "2c91414f",
   "metadata": {
    "deletable": false
   },
   "outputs": [],
   "source": [
    "# Convert the column names to have all lower case characters.\n",
    "# Replace any spaces between words with the underscore character. \n",
    "# These changes should be reflected in the existing `meta` `DataFrame`.\n",
    "# YOUR CODE HERE\n",
    "meta.columns = meta.columns.str.lower()\n",
    "meta.rename(columns={'adj close': 'adj_close'}, inplace=True)"
   ]
  },
  {
   "cell_type": "code",
   "execution_count": 6,
   "id": "6fa3e2b8",
   "metadata": {},
   "outputs": [
    {
     "name": "stdout",
     "output_type": "stream",
     "text": [
      "<class 'pandas.core.frame.DataFrame'>\n",
      "RangeIndex: 251 entries, 0 to 250\n",
      "Data columns (total 7 columns):\n",
      " #   Column     Non-Null Count  Dtype         \n",
      "---  ------     --------------  -----         \n",
      " 0   date       251 non-null    datetime64[ns]\n",
      " 1   open       251 non-null    float64       \n",
      " 2   high       251 non-null    float64       \n",
      " 3   low        251 non-null    float64       \n",
      " 4   close      251 non-null    float64       \n",
      " 5   adj_close  251 non-null    float64       \n",
      " 6   volume     251 non-null    int64         \n",
      "dtypes: datetime64[ns](1), float64(5), int64(1)\n",
      "memory usage: 13.9 KB\n"
     ]
    }
   ],
   "source": [
    "# confirm all lowercase and spaces removed now\n",
    "meta.info()"
   ]
  },
  {
   "cell_type": "code",
   "execution_count": 7,
   "id": "7d8f2b67",
   "metadata": {
    "deletable": false
   },
   "outputs": [
    {
     "name": "stdout",
     "output_type": "stream",
     "text": [
      "<class 'pandas.core.frame.DataFrame'>\n",
      "DatetimeIndex: 251 entries, 2022-01-03 to 2022-12-30\n",
      "Data columns (total 6 columns):\n",
      " #   Column     Non-Null Count  Dtype  \n",
      "---  ------     --------------  -----  \n",
      " 0   open       251 non-null    float64\n",
      " 1   high       251 non-null    float64\n",
      " 2   low        251 non-null    float64\n",
      " 3   close      251 non-null    float64\n",
      " 4   adj_close  251 non-null    float64\n",
      " 5   volume     251 non-null    int64  \n",
      "dtypes: float64(5), int64(1)\n",
      "memory usage: 13.7 KB\n"
     ]
    }
   ],
   "source": [
    "# Change the index for `meta` to be the `date` column.\n",
    "# YOUR CODE HERE\n",
    "meta.set_index('date', inplace=True)\n",
    "\n",
    "# check changes and confirm\n",
    "meta.info()"
   ]
  },
  {
   "cell_type": "markdown",
   "id": "1ed3d6d3",
   "metadata": {
    "deletable": false,
    "editable": false
   },
   "source": [
    "<hr>"
   ]
  },
  {
   "cell_type": "code",
   "execution_count": 8,
   "id": "32e4e062",
   "metadata": {
    "deletable": false
   },
   "outputs": [
    {
     "data": {
      "text/plain": [
       "[<matplotlib.lines.Line2D at 0x2686bba00a0>]"
      ]
     },
     "execution_count": 8,
     "metadata": {},
     "output_type": "execute_result"
    },
    {
     "data": {
      "image/png": "[encoded data removed]",
      "text/plain": [
       "<Figure size 640x480 with 1 Axes>"
      ]
     },
     "metadata": {},
     "output_type": "display_data"
    }
   ],
   "source": [
    "# Create a line plot of the for the closing price.\n",
    "# YOUR CODE HERE\n",
    "\n",
    "# import matplotlib.pyplot as plt\n",
    "import matplotlib.pyplot as plt\n",
    "\n",
    "# Line plot of the closing price for meta\n",
    "fig, ax = plt.subplots()\n",
    "ax.plot(meta.close)"
   ]
  },
  {
   "cell_type": "markdown",
   "id": "4fb26c1d",
   "metadata": {
    "deletable": false,
    "editable": false
   },
   "source": [
    "-----\n",
    "\n",
    "# Problem 2: Distribution Analysis\n",
    "\n",
    "Be sure to complete these steps in the order outlined below and in their appropriate code cells. There is file named `customers.csv` in the subfolder `data`. It contains information on the customers of one of your clients.\n",
    "1. Read the file into a `DataFrame` named `cust`.\n",
    "2. Use `seaborn` to create a histogram (using all the defaults) for the amount spent.\n",
    "3. Use `seaborn` to create a histogram for household income, split by marital status. Set the transparency to 0.25 and add a kernel density estimation line.\n",
    "4. Use `seaborn` to create a boxplot for spending broken out by gender."
   ]
  },
  {
   "cell_type": "code",
   "execution_count": 9,
   "id": "7b09dd25",
   "metadata": {
    "deletable": false
   },
   "outputs": [
    {
     "name": "stdout",
     "output_type": "stream",
     "text": [
      "<class 'pandas.core.frame.DataFrame'>\n",
      "RangeIndex: 8157 entries, 0 to 8156\n",
      "Data columns (total 11 columns):\n",
      " #   Column              Non-Null Count  Dtype \n",
      "---  ------              --------------  ----- \n",
      " 0   cust_id             8157 non-null   object\n",
      " 1   join_date           8157 non-null   object\n",
      " 2   gender              8157 non-null   object\n",
      " 3   age                 8157 non-null   int64 \n",
      " 4   marital_status      8157 non-null   object\n",
      " 5   household_income    8157 non-null   int64 \n",
      " 6   home_ownership      8157 non-null   object\n",
      " 7   num_children        8157 non-null   int64 \n",
      " 8   num_vehicles        8157 non-null   int64 \n",
      " 9   last_purchase_date  8157 non-null   object\n",
      " 10  spend               8157 non-null   int64 \n",
      "dtypes: int64(5), object(6)\n",
      "memory usage: 701.1+ KB\n"
     ]
    }
   ],
   "source": [
    "# Read the file into a `DataFrame` named `cust`.\n",
    "# YOUR CODE HERE\n",
    "cust = pd.read_csv('./data/customers.csv')\n",
    "\n",
    "# view cust info\n",
    "cust.info()"
   ]
  },
  {
   "cell_type": "code",
   "execution_count": 31,
   "id": "54fdacdd",
   "metadata": {
    "deletable": false
   },
   "outputs": [
    {
     "data": {
      "text/plain": [
       "<seaborn.axisgrid.FacetGrid at 0x2686a7442e0>"
      ]
     },
     "execution_count": 31,
     "metadata": {},
     "output_type": "execute_result"
    },
    {
     "data": {
      "image/png": "[encoded data removed]",
      "text/plain": [
       "<Figure size 500x500 with 1 Axes>"
      ]
     },
     "metadata": {},
     "output_type": "display_data"
    }
   ],
   "source": [
    "# Use `seaborn` to create a histogram for the amount spent.\n",
    "# YOUR CODE HERE\n",
    "\n",
    "\n",
    "# import seaborn package\n",
    "import seaborn as sns\n",
    "sns.displot(data=cust.spend, kind='hist')"
   ]
  },
  {
   "cell_type": "markdown",
   "id": "635f1782",
   "metadata": {
    "deletable": false,
    "editable": false
   },
   "source": [
    "### Carefully explain the important attributes of the histogram you created for spending in the Markdown cell below."
   ]
  },
  {
   "cell_type": "markdown",
   "id": "5731ab9c",
   "metadata": {
    "deletable": false
   },
   "source": [
    "The largest frequency is just over $5,000 with the majority of the distribution appearing to be $5,000 or less spent. The x-axis depicts the amount of money spent. The y-axis depicts the count of customers. The distribution appears to be bimodal with the spending amounts being the two buckets greater than $5,000. Additionally, after the two peak buckets, the distribution drops significantly towards the higher levels of spending around $6,000-$7,000+. This may be an indicator that most customers in this data set do not spend more than around $5,000 while the majority appear to spend between approximately $1,000 and $4,750.  "
   ]
  },
  {
   "cell_type": "code",
   "execution_count": 11,
   "id": "e5e23a5f",
   "metadata": {
    "deletable": false
   },
   "outputs": [
    {
     "data": {
      "text/plain": [
       "<seaborn.axisgrid.FacetGrid at 0x2686e02dd30>"
      ]
     },
     "execution_count": 11,
     "metadata": {},
     "output_type": "execute_result"
    },
    {
     "data": {
      "image/png": "[encoded data removed]",
      "text/plain": [
       "<Figure size 622.125x500 with 1 Axes>"
      ]
     },
     "metadata": {},
     "output_type": "display_data"
    }
   ],
   "source": [
    "# Use `seaborn` to create a histogram for household income, \n",
    "# split by marital status. Set the transparency to 0.25 \n",
    "# and add a kernel density estimation line.\n",
    "# YOUR CODE HERE\n",
    "sns.displot(data=cust, x='household_income', hue='marital_status', kind='hist', kde=True, alpha=0.25)"
   ]
  },
  {
   "cell_type": "markdown",
   "id": "bd535769",
   "metadata": {
    "deletable": false,
    "editable": false
   },
   "source": [
    "### Carefully explain the the histogram you created for household income in the Markdown cell below."
   ]
  },
  {
   "cell_type": "markdown",
   "id": "09e05d84",
   "metadata": {
    "deletable": false
   },
   "source": [
    "Immediately, the distribution between married and unmarried household income is apparent. Married people make significantly more in household_income than unmarried people. The married distribution increases over $200,000, indicating that the majority of the married people in this population make more than $200,000. Interestingly, the next highest bin is around $350,000 followed by approximately $450,000 for married people. The unmarried households appear to be roughly evenly spread from around $35,000 to $500,000. This may be a flatter distribution because of fewwer people than the married population and the insights are not as evident on this scale. "
   ]
  },
  {
   "cell_type": "code",
   "execution_count": 12,
   "id": "85e2e626",
   "metadata": {
    "deletable": false
   },
   "outputs": [
    {
     "data": {
      "text/plain": [
       "<AxesSubplot:xlabel='spend', ylabel='marital_status'>"
      ]
     },
     "execution_count": 12,
     "metadata": {},
     "output_type": "execute_result"
    },
    {
     "data": {
      "image/png": "[encoded data removed]",
      "text/plain": [
       "<Figure size 640x480 with 1 Axes>"
      ]
     },
     "metadata": {},
     "output_type": "display_data"
    }
   ],
   "source": [
    "# Use `seaborn` to create a boxplot for spending broken out by gender.\n",
    "# YOUR CODE HERE\n",
    "sns.boxplot(data=cust, x='spend', y='marital_status')"
   ]
  },
  {
   "cell_type": "markdown",
   "id": "5af67d98",
   "metadata": {
    "deletable": false,
    "editable": false
   },
   "source": [
    "### Carefully explain the the boxplot you created in the Markdown cell below."
   ]
  },
  {
   "cell_type": "markdown",
   "id": "422e673c",
   "metadata": {
    "deletable": false
   },
   "source": [
    "The boxplot above shows the married population in blue and the unmarried population in orange. The median spending for married households is approximately $4,800 with the middle 50 percent of the population being between roughly $3,000 and almost $6,000. The whiskers for the married household on the lower end (left side of the graphic) are approximately the same as the unmarried household around less than $1,000. The upper whisker for the married household is above $7,000 while the upper whisker for the unmarried lower whisker is approximately $5,500. Notably the lower wisker and median for the unmarried household are both within the same spending range as the married middle 50%. Further, the median spending for the unmarried household is approximately $3,500 which is about $1,300 less than the married household. "
   ]
  },
  {
   "cell_type": "markdown",
   "id": "4201fa66",
   "metadata": {
    "deletable": false,
    "editable": false
   },
   "source": [
    "-----\n",
    "\n",
    "# Problem 3: Relationship Analysis\n",
    "\n",
    "Be sure to complete these steps in the order outlined below and in their appropriate code cells. There is file named `customers.csv` in the subfolder `data`. It contains information on customers of one of your clients.\n",
    "1. Use `seaborn` to create a heatmap of the correlation matrix for all of the quantitative variables in the customer dataset. Be sure add labels to the squares and have the color range from -1 to +1.\n",
    "2. Which variable has the strongest correlation to spending? Save the name of the column in a variable named `strongest_corr_to_spend`. Be sure to use the name **exactly** as found in the column names.\n",
    "3. Create a sample of 100 rows from the `cust` `DataFrame` using a seed of 71. Store the results in a variable named `sample`. Using `sample`, create a scatter plot with `matplotlib` between the spending and the variable with the strongest correlation. Be sure to place the variables on the correct axes."
   ]
  },
  {
   "cell_type": "code",
   "execution_count": 13,
   "id": "62a3b501",
   "metadata": {
    "deletable": false
   },
   "outputs": [
    {
     "data": {
      "text/plain": [
       "<AxesSubplot:>"
      ]
     },
     "execution_count": 13,
     "metadata": {},
     "output_type": "execute_result"
    },
    {
     "data": {
      "image/png": "[encoded data removed]",
      "text/plain": [
       "<Figure size 640x480 with 2 Axes>"
      ]
     },
     "metadata": {},
     "output_type": "display_data"
    }
   ],
   "source": [
    "# Use `seaborn` to create a heatmap of the correlation matrix for \n",
    "# all of the quantitative variables in the customer dataset.\n",
    "# Be sure add labels to the squares and have the color range\n",
    "# from -1 to +1.\n",
    "# YOUR CODE HERE\n",
    "\n",
    "# .corr() for corelation matrix of cust, labels in squares with annot=True, vmin/max and pur/org color\n",
    "sns.heatmap(cust.corr(), annot=True, linewidth=0.5, cmap='PuOr', vmin=-1.0, vmax=1.0)"
   ]
  },
  {
   "cell_type": "code",
   "execution_count": 14,
   "id": "5ffb3e94",
   "metadata": {
    "deletable": false
   },
   "outputs": [],
   "source": [
    "# Which variable has the strongest correlation to spending? \n",
    "# Save the name of the column in a variable named `strongest_corr_to_spend`. \n",
    "# Be sure to use the name as **exactly** found in the column names.\n",
    "# YOUR CODE HERE\n",
    "# the largest correlation to spending is household_income\n",
    "strongest_corr_to_spend = cust.household_income"
   ]
  },
  {
   "cell_type": "markdown",
   "id": "0bf76fe9",
   "metadata": {
    "deletable": false,
    "editable": false
   },
   "source": [
    "<hr>"
   ]
  },
  {
   "cell_type": "code",
   "execution_count": 39,
   "id": "d0f10728",
   "metadata": {
    "deletable": false
   },
   "outputs": [
    {
     "data": {
      "text/plain": [
       "Text(0, 0.5, 'Spend ($)')"
      ]
     },
     "execution_count": 39,
     "metadata": {},
     "output_type": "execute_result"
    },
    {
     "data": {
      "image/png": "[encoded data removed]",
      "text/plain": [
       "<Figure size 640x480 with 1 Axes>"
      ]
     },
     "metadata": {},
     "output_type": "display_data"
    }
   ],
   "source": [
    "#  Create a sample of 100 rows from the `cust` `DataFrame` using a seed of 71. \n",
    "# Store the results in a variable named `sample`. Using `sample` create a \n",
    "# scatter plot between the spending and the variable with the strongest correlation.\n",
    "# Be sure to place the variables on the correct axes.\n",
    "# YOUR CODE HERE\n",
    "# seed 71 with random_state\n",
    "sample = cust.sample(100, random_state=71)\n",
    "fig, ax = plt.subplots()\n",
    "\n",
    "# ax.scatter(x-series, y-series)\n",
    "ax.scatter(sample.household_income, sample.spend, c='b')\n",
    "\n",
    "# add title\n",
    "fig.suptitle('Customer Spending Amount to Household Income')\n",
    "\n",
    "# add axis labels\n",
    "ax.xaxis.set_label_text('Household Income ($)')\n",
    "ax.yaxis.set_label_text('Spend ($)')"
   ]
  },
  {
   "cell_type": "markdown",
   "id": "83bbd2d2",
   "metadata": {
    "deletable": false,
    "editable": false
   },
   "source": [
    "-----\n",
    "\n",
    "# Problem 4\n",
    "\n",
    "Be sure to complete these steps in the order outlined below and in their appropriate code cells. There is file named `customers.csv` in the subfolder `data`. It contains information on the customers of one of your clients.\n",
    "1. Add a new column named `spend_category` the `cust` `DataFrame`. The column should contain the categories \"low\", \"medium\", and \"high\" for amount spent. Those three bins should be equal-width. (Sanity check: This means there will probably be a different number of observations in each bin.)\n",
    "2. Find the average for all of the numerical columns of `cust` across your newly created column `spend_category`. Store the results in a `DataFrame` variable named `averages`.\n",
    "3. Find the minimum, maximum, average, and count for the column `spend` across each `spend_category`. Store the results in a variable named `summary`.\n",
    "4. Create a frequency table that has spending category on the rows and marital status in the columns. Be sure to add totals for both the rows and columns. Store your results in a variable named `freq_table`.\n",
    "5. Create a frequency table that has spending category on the rows and marital status in the columns. This time make the values be the percentage/fraction. Be sure that each **row** adds to 100% (i.e., 1), including the total row. You should **not** have a column that is labeled \"All\". Store your results in a variable named `percent_table`."
   ]
  },
  {
   "cell_type": "code",
   "execution_count": 16,
   "id": "69454075",
   "metadata": {
    "deletable": false
   },
   "outputs": [],
   "source": [
    "# Add a new column named `spend_category` the `cust` `DataFrame`.\n",
    "# The column should contain the categories \"low\", \"medium\", and\n",
    "# \"high\" for amount spent.\n",
    "# YOUR CODE HERE\n",
    "spend_category, bin_ranges = pd.cut(cust.spend, bins=3,\n",
    "                                   labels=['low', 'medium', 'high'],\n",
    "                                   retbins=True)"
   ]
  },
  {
   "cell_type": "code",
   "execution_count": 17,
   "id": "c22d942a",
   "metadata": {},
   "outputs": [
    {
     "data": {
      "text/plain": [
       "0         high\n",
       "1       medium\n",
       "2         high\n",
       "3          low\n",
       "4          low\n",
       "         ...  \n",
       "8152      high\n",
       "8153       low\n",
       "8154    medium\n",
       "8155      high\n",
       "8156    medium\n",
       "Name: spend, Length: 8157, dtype: category\n",
       "Categories (3, object): ['low' < 'medium' < 'high']"
      ]
     },
     "execution_count": 17,
     "metadata": {},
     "output_type": "execute_result"
    }
   ],
   "source": [
    "# view spend_category\n",
    "spend_category"
   ]
  },
  {
   "cell_type": "code",
   "execution_count": 18,
   "id": "6b7f3a43",
   "metadata": {},
   "outputs": [
    {
     "data": {
      "text/plain": [
       "medium    3421\n",
       "low       2827\n",
       "high      1909\n",
       "Name: spend, dtype: int64"
      ]
     },
     "execution_count": 18,
     "metadata": {},
     "output_type": "execute_result"
    }
   ],
   "source": [
    "# view num rows in each bucket\n",
    "spend_category.value_counts()"
   ]
  },
  {
   "cell_type": "code",
   "execution_count": 19,
   "id": "a3817eed",
   "metadata": {},
   "outputs": [],
   "source": [
    "# add spend_category col to cust\n",
    "cust['spend_category'] = spend_category"
   ]
  },
  {
   "cell_type": "code",
   "execution_count": 20,
   "id": "593ff21a",
   "metadata": {},
   "outputs": [
    {
     "name": "stdout",
     "output_type": "stream",
     "text": [
      "<class 'pandas.core.frame.DataFrame'>\n",
      "RangeIndex: 8157 entries, 0 to 8156\n",
      "Data columns (total 12 columns):\n",
      " #   Column              Non-Null Count  Dtype   \n",
      "---  ------              --------------  -----   \n",
      " 0   cust_id             8157 non-null   object  \n",
      " 1   join_date           8157 non-null   object  \n",
      " 2   gender              8157 non-null   object  \n",
      " 3   age                 8157 non-null   int64   \n",
      " 4   marital_status      8157 non-null   object  \n",
      " 5   household_income    8157 non-null   int64   \n",
      " 6   home_ownership      8157 non-null   object  \n",
      " 7   num_children        8157 non-null   int64   \n",
      " 8   num_vehicles        8157 non-null   int64   \n",
      " 9   last_purchase_date  8157 non-null   object  \n",
      " 10  spend               8157 non-null   int64   \n",
      " 11  spend_category      8157 non-null   category\n",
      "dtypes: category(1), int64(5), object(6)\n",
      "memory usage: 709.2+ KB\n"
     ]
    }
   ],
   "source": [
    "# confirm added\n",
    "cust.info()"
   ]
  },
  {
   "cell_type": "markdown",
   "id": "2a8e0f93",
   "metadata": {
    "deletable": false,
    "editable": false
   },
   "source": [
    "<hr>"
   ]
  },
  {
   "cell_type": "code",
   "execution_count": 21,
   "id": "9e4c3e8f",
   "metadata": {
    "deletable": false
   },
   "outputs": [],
   "source": [
    "# Find the average for all of the numerical columns of `cust` \n",
    "# across your newly created column `spend_category`. \n",
    "# Store the results in a variable named `averages`. \n",
    "# YOUR CODE HERE\n",
    "averages = cust.groupby('spend_category').mean()"
   ]
  },
  {
   "cell_type": "code",
   "execution_count": 22,
   "id": "2c80486a",
   "metadata": {},
   "outputs": [
    {
     "name": "stdout",
     "output_type": "stream",
     "text": [
      "<class 'pandas.core.frame.DataFrame'>\n",
      "CategoricalIndex: 3 entries, low to high\n",
      "Data columns (total 5 columns):\n",
      " #   Column            Non-Null Count  Dtype  \n",
      "---  ------            --------------  -----  \n",
      " 0   age               3 non-null      float64\n",
      " 1   household_income  3 non-null      float64\n",
      " 2   num_children      3 non-null      float64\n",
      " 3   num_vehicles      3 non-null      float64\n",
      " 4   spend             3 non-null      float64\n",
      "dtypes: float64(5)\n",
      "memory usage: 255.0 bytes\n"
     ]
    }
   ],
   "source": [
    "# view averages and type\n",
    "averages.info()"
   ]
  },
  {
   "cell_type": "code",
   "execution_count": 41,
   "id": "f2b04ab4",
   "metadata": {},
   "outputs": [
    {
     "data": {
      "text/html": [
       "<div>\n",
       "<style scoped>\n",
       "    .dataframe tbody tr th:only-of-type {\n",
       "        vertical-align: middle;\n",
       "    }\n",
       "\n",
       "    .dataframe tbody tr th {\n",
       "        vertical-align: top;\n",
       "    }\n",
       "\n",
       "    .dataframe thead th {\n",
       "        text-align: right;\n",
       "    }\n",
       "</style>\n",
       "<table border=\"1\" class=\"dataframe\">\n",
       "  <thead>\n",
       "    <tr style=\"text-align: right;\">\n",
       "      <th></th>\n",
       "      <th>age</th>\n",
       "      <th>household_income</th>\n",
       "      <th>num_children</th>\n",
       "      <th>num_vehicles</th>\n",
       "      <th>spend</th>\n",
       "    </tr>\n",
       "    <tr>\n",
       "      <th>spend_category</th>\n",
       "      <th></th>\n",
       "      <th></th>\n",
       "      <th></th>\n",
       "      <th></th>\n",
       "      <th></th>\n",
       "    </tr>\n",
       "  </thead>\n",
       "  <tbody>\n",
       "    <tr>\n",
       "      <th>low</th>\n",
       "      <td>38.008843</td>\n",
       "      <td>275349.043863</td>\n",
       "      <td>2.461620</td>\n",
       "      <td>2.483905</td>\n",
       "      <td>2451.078882</td>\n",
       "    </tr>\n",
       "    <tr>\n",
       "      <th>medium</th>\n",
       "      <td>38.082140</td>\n",
       "      <td>287373.866998</td>\n",
       "      <td>2.494592</td>\n",
       "      <td>2.526162</td>\n",
       "      <td>4484.845659</td>\n",
       "    </tr>\n",
       "    <tr>\n",
       "      <th>high</th>\n",
       "      <td>37.661603</td>\n",
       "      <td>364623.092719</td>\n",
       "      <td>2.417496</td>\n",
       "      <td>2.503929</td>\n",
       "      <td>6265.764798</td>\n",
       "    </tr>\n",
       "  </tbody>\n",
       "</table>\n",
       "</div>"
      ],
      "text/plain": [
       "                      age  household_income  num_children  num_vehicles  \\\n",
       "spend_category                                                            \n",
       "low             38.008843     275349.043863      2.461620      2.483905   \n",
       "medium          38.082140     287373.866998      2.494592      2.526162   \n",
       "high            37.661603     364623.092719      2.417496      2.503929   \n",
       "\n",
       "                      spend  \n",
       "spend_category               \n",
       "low             2451.078882  \n",
       "medium          4484.845659  \n",
       "high            6265.764798  "
      ]
     },
     "execution_count": 41,
     "metadata": {},
     "output_type": "execute_result"
    }
   ],
   "source": [
    "# view averages\n",
    "averages"
   ]
  },
  {
   "cell_type": "code",
   "execution_count": 42,
   "id": "b9215736-0fdc-462b-8ebc-7260a15b924c",
   "metadata": {
    "deletable": false,
    "editable": false
   },
   "outputs": [],
   "source": [
    "# This is a test cell\n",
    "# If **NO** message is printed, it means that the tests passed\n",
    "# One basic test to see if your code works\n",
    "assert_equal(averages.index.name, 'spend_category', msg='You did not create the `averages` DataFrame correctly')"
   ]
  },
  {
   "cell_type": "markdown",
   "id": "1e34f886",
   "metadata": {
    "deletable": false,
    "editable": false
   },
   "source": [
    "<hr>"
   ]
  },
  {
   "cell_type": "code",
   "execution_count": 24,
   "id": "7a4f724a",
   "metadata": {
    "deletable": false
   },
   "outputs": [],
   "source": [
    "# Find the minimum, maximum, average, and count for the column `spend` \n",
    "#across each `spend_category`. Store the results in a variable named `summary`.\n",
    "# YOUR CODE HERE\n",
    "summary = cust.groupby('spend_category')['spend'].agg(['min', 'max', 'mean', 'count'])"
   ]
  },
  {
   "cell_type": "code",
   "execution_count": 25,
   "id": "e10c7402",
   "metadata": {},
   "outputs": [
    {
     "data": {
      "text/html": [
       "<div>\n",
       "<style scoped>\n",
       "    .dataframe tbody tr th:only-of-type {\n",
       "        vertical-align: middle;\n",
       "    }\n",
       "\n",
       "    .dataframe tbody tr th {\n",
       "        vertical-align: top;\n",
       "    }\n",
       "\n",
       "    .dataframe thead th {\n",
       "        text-align: right;\n",
       "    }\n",
       "</style>\n",
       "<table border=\"1\" class=\"dataframe\">\n",
       "  <thead>\n",
       "    <tr style=\"text-align: right;\">\n",
       "      <th></th>\n",
       "      <th>min</th>\n",
       "      <th>max</th>\n",
       "      <th>mean</th>\n",
       "      <th>count</th>\n",
       "    </tr>\n",
       "    <tr>\n",
       "      <th>spend_category</th>\n",
       "      <th></th>\n",
       "      <th></th>\n",
       "      <th></th>\n",
       "      <th></th>\n",
       "    </tr>\n",
       "  </thead>\n",
       "  <tbody>\n",
       "    <tr>\n",
       "      <th>low</th>\n",
       "      <td>1467</td>\n",
       "      <td>3415</td>\n",
       "      <td>2451.078882</td>\n",
       "      <td>2827</td>\n",
       "    </tr>\n",
       "    <tr>\n",
       "      <th>medium</th>\n",
       "      <td>3417</td>\n",
       "      <td>5363</td>\n",
       "      <td>4484.845659</td>\n",
       "      <td>3421</td>\n",
       "    </tr>\n",
       "    <tr>\n",
       "      <th>high</th>\n",
       "      <td>5364</td>\n",
       "      <td>7312</td>\n",
       "      <td>6265.764798</td>\n",
       "      <td>1909</td>\n",
       "    </tr>\n",
       "  </tbody>\n",
       "</table>\n",
       "</div>"
      ],
      "text/plain": [
       "                 min   max         mean  count\n",
       "spend_category                                \n",
       "low             1467  3415  2451.078882   2827\n",
       "medium          3417  5363  4484.845659   3421\n",
       "high            5364  7312  6265.764798   1909"
      ]
     },
     "execution_count": 25,
     "metadata": {},
     "output_type": "execute_result"
    }
   ],
   "source": [
    "# view summary\n",
    "summary"
   ]
  },
  {
   "cell_type": "code",
   "execution_count": 26,
   "id": "c17b641c",
   "metadata": {
    "deletable": false,
    "editable": false
   },
   "outputs": [],
   "source": [
    "# This is a test cell\n",
    "# If **NO** message is printed, it means that the tests passed\n",
    "# One basic test to see if your code works\n",
    "high_count = summary.loc['high']['count']\n",
    "assert_equal(high_count, 1909, msg='You did not find the correct count for high spenders')"
   ]
  },
  {
   "cell_type": "markdown",
   "id": "eff249f9",
   "metadata": {
    "deletable": false,
    "editable": false
   },
   "source": [
    "<hr>"
   ]
  },
  {
   "cell_type": "code",
   "execution_count": 27,
   "id": "882805a4",
   "metadata": {
    "deletable": false
   },
   "outputs": [],
   "source": [
    "# Create a frequency table that has spending category on the rows and\n",
    "# marital status in the columns. Be sure to add totals for both the \n",
    "# rows and columns. Store your results in a variable named `freq_table`.\n",
    "# YOUR CODE HERE\n",
    "freq_table = pd.crosstab(index=cust.spend_category, columns=cust.marital_status,\n",
    "           colnames=['marital_status'],margins=True)"
   ]
  },
  {
   "cell_type": "code",
   "execution_count": 28,
   "id": "c38e8227",
   "metadata": {},
   "outputs": [
    {
     "data": {
      "text/html": [
       "<div>\n",
       "<style scoped>\n",
       "    .dataframe tbody tr th:only-of-type {\n",
       "        vertical-align: middle;\n",
       "    }\n",
       "\n",
       "    .dataframe tbody tr th {\n",
       "        vertical-align: top;\n",
       "    }\n",
       "\n",
       "    .dataframe thead th {\n",
       "        text-align: right;\n",
       "    }\n",
       "</style>\n",
       "<table border=\"1\" class=\"dataframe\">\n",
       "  <thead>\n",
       "    <tr style=\"text-align: right;\">\n",
       "      <th>marital_status</th>\n",
       "      <th>married</th>\n",
       "      <th>unmarried</th>\n",
       "      <th>All</th>\n",
       "    </tr>\n",
       "    <tr>\n",
       "      <th>spend_category</th>\n",
       "      <th></th>\n",
       "      <th></th>\n",
       "      <th></th>\n",
       "    </tr>\n",
       "  </thead>\n",
       "  <tbody>\n",
       "    <tr>\n",
       "      <th>low</th>\n",
       "      <td>1876</td>\n",
       "      <td>951</td>\n",
       "      <td>2827</td>\n",
       "    </tr>\n",
       "    <tr>\n",
       "      <th>medium</th>\n",
       "      <td>2374</td>\n",
       "      <td>1047</td>\n",
       "      <td>3421</td>\n",
       "    </tr>\n",
       "    <tr>\n",
       "      <th>high</th>\n",
       "      <td>1889</td>\n",
       "      <td>20</td>\n",
       "      <td>1909</td>\n",
       "    </tr>\n",
       "    <tr>\n",
       "      <th>All</th>\n",
       "      <td>6139</td>\n",
       "      <td>2018</td>\n",
       "      <td>8157</td>\n",
       "    </tr>\n",
       "  </tbody>\n",
       "</table>\n",
       "</div>"
      ],
      "text/plain": [
       "marital_status  married  unmarried   All\n",
       "spend_category                          \n",
       "low                1876        951  2827\n",
       "medium             2374       1047  3421\n",
       "high               1889         20  1909\n",
       "All                6139       2018  8157"
      ]
     },
     "execution_count": 28,
     "metadata": {},
     "output_type": "execute_result"
    }
   ],
   "source": [
    "# vieq freq_table to confirm\n",
    "freq_table"
   ]
  },
  {
   "cell_type": "markdown",
   "id": "a0762e90",
   "metadata": {
    "deletable": false,
    "editable": false
   },
   "source": [
    "<hr>"
   ]
  },
  {
   "cell_type": "code",
   "execution_count": 29,
   "id": "60288cf6",
   "metadata": {
    "deletable": false,
    "scrolled": true
   },
   "outputs": [],
   "source": [
    "# Create a frequency table that has spending category on the rows and \n",
    "# marital status in the columns. This time make the values be the \n",
    "# percentage/fraction. Be sure that each **row** adds to 100% (i.e., 1),\n",
    "# including the total row. You should **not** have a column that is \n",
    "# labeled \"All\" Store your results in a variable named `percent_table`.\n",
    "# YOUR CODE HERE\n",
    "percent_table = pd.crosstab(index=cust.spend_category, columns=cust.marital_status,\n",
    "           colnames=['marital_status'], normalize='index', margins=True)"
   ]
  },
  {
   "cell_type": "code",
   "execution_count": 30,
   "id": "2701cd97",
   "metadata": {},
   "outputs": [
    {
     "data": {
      "text/html": [
       "<div>\n",
       "<style scoped>\n",
       "    .dataframe tbody tr th:only-of-type {\n",
       "        vertical-align: middle;\n",
       "    }\n",
       "\n",
       "    .dataframe tbody tr th {\n",
       "        vertical-align: top;\n",
       "    }\n",
       "\n",
       "    .dataframe thead th {\n",
       "        text-align: right;\n",
       "    }\n",
       "</style>\n",
       "<table border=\"1\" class=\"dataframe\">\n",
       "  <thead>\n",
       "    <tr style=\"text-align: right;\">\n",
       "      <th>marital_status</th>\n",
       "      <th>married</th>\n",
       "      <th>unmarried</th>\n",
       "    </tr>\n",
       "    <tr>\n",
       "      <th>spend_category</th>\n",
       "      <th></th>\n",
       "      <th></th>\n",
       "    </tr>\n",
       "  </thead>\n",
       "  <tbody>\n",
       "    <tr>\n",
       "      <th>low</th>\n",
       "      <td>0.663601</td>\n",
       "      <td>0.336399</td>\n",
       "    </tr>\n",
       "    <tr>\n",
       "      <th>medium</th>\n",
       "      <td>0.693949</td>\n",
       "      <td>0.306051</td>\n",
       "    </tr>\n",
       "    <tr>\n",
       "      <th>high</th>\n",
       "      <td>0.989523</td>\n",
       "      <td>0.010477</td>\n",
       "    </tr>\n",
       "    <tr>\n",
       "      <th>All</th>\n",
       "      <td>0.752605</td>\n",
       "      <td>0.247395</td>\n",
       "    </tr>\n",
       "  </tbody>\n",
       "</table>\n",
       "</div>"
      ],
      "text/plain": [
       "marital_status   married  unmarried\n",
       "spend_category                     \n",
       "low             0.663601   0.336399\n",
       "medium          0.693949   0.306051\n",
       "high            0.989523   0.010477\n",
       "All             0.752605   0.247395"
      ]
     },
     "execution_count": 30,
     "metadata": {},
     "output_type": "execute_result"
    }
   ],
   "source": [
    "# review percent_table to confirm all rows add to 1, total row only and not column\n",
    "percent_table"
   ]
  },
  {
   "cell_type": "markdown",
   "id": "255080ed",
   "metadata": {
    "deletable": false,
    "editable": false
   },
   "source": [
    "<hr>"
   ]
  },
  {
   "cell_type": "markdown",
   "id": "2d15c98f",
   "metadata": {
    "deletable": false,
    "editable": false
   },
   "source": [
    "**&copy; 2022 - Present: Matthew D. Dean, Ph.D.   \n",
    "Clinical Associate Professor of Business Analytics at William \\& Mary.**"
   ]
  }
 ],
 "metadata": {
  "celltoolbar": "Edit Metadata",
  "kernelspec": {
   "display_name": "Python 3 (ipykernel)",
   "language": "python",
   "name": "python3"
  },
  "language_info": {
   "codemirror_mode": {
    "name": "ipython",
    "version": 3
   },
   "file_extension": ".py",
   "mimetype": "text/x-python",
   "name": "python",
   "nbconvert_exporter": "python",
   "pygments_lexer": "ipython3",
   "version": "3.9.13"
  }
 },
 "nbformat": 4,
 "nbformat_minor": 5
}
