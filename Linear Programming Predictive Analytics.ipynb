{
 "cells": [
  {
   "cell_type": "markdown",
   "id": "71d96f83",
   "metadata": {
    "deletable": false,
    "editable": false
   },
   "source": [
    "<font color='red' size='6'>REMINDER</font>\n",
    "\n",
    "# Fill in any place that says `YOUR CODE HERE`.\n",
    "- You should remove the line that says `raise NotImplementedError()`. If you do not, your code will (unsurprisingly) throw a run-time error and cause everything to fail.\n",
    "- Do **NOT** write your answer anywhere else other than where it says `YOUR CODE HERE`. Simply write your code directly below this comment in the **same code cell**.\n",
    "\n",
    "# Make sure everything runs as expected.\n",
    "- Go to the menubar, select *Kernel* > *Restart & Run All*\n",
    "\n",
    "# Do <ins>NOT</ins> change the title (i.e., file name) of this notebook.\n",
    "\n",
    "# Do <ins>NOT</ins> delete any of the cells in this notebook.\n",
    "\n",
    "# Make sure you save your work\n",
    "- Go to the menubar, select *File* > *Save and Checkpoint*"
   ]
  },
  {
   "cell_type": "code",
   "execution_count": 1,
   "id": "1e9274db",
   "metadata": {
    "deletable": false,
    "editable": false
   },
   "outputs": [],
   "source": [
    "# Run this code cell \n",
    "from nose.tools import assert_equal, assert_in, assert_is_instance\n",
    "from nose.tools import assert_almost_equal, assert_not_equal"
   ]
  },
  {
   "cell_type": "markdown",
   "id": "101f0600",
   "metadata": {
    "deletable": false,
    "editable": false
   },
   "source": [
    "----\n",
    "\n",
    "# Problem 1\n",
    "\n",
    "Use PuLP to solve the following linear programming problem:\n",
    "\n",
    "$$\n",
    "\\begin{array}{lrccccccl}\n",
    "\\max & z & = & 4x_{1} & + & 8x_{2} & \\\\\n",
    "\\textrm{subject to} & & & 5x_{1} & + & x_{2} & \\leq & 8 & \\textrm{ constraint one}\\\\\n",
    " & & & 6x_{1} & + & 2x_{2} & \\leq & 4 & \\textrm{ constraint two}\\\\\n",
    " & & & x_{1} \\geq 0, & & x_{2} \\geq 0 & & & \\textrm{ non-negativity}\n",
    "\\end{array}\n",
    "$$\n",
    "\n",
    "Create and store the problem instance in a variable named `lp_1`. Name the variables `x1` and `x2`."
   ]
  },
  {
   "cell_type": "code",
   "execution_count": 2,
   "id": "a3bbd8ec",
   "metadata": {
    "deletable": false
   },
   "outputs": [],
   "source": [
    "# import pulp with the alias pl\n",
    "# Do NOT change this line\n",
    "import pulp as pl\n",
    "\n",
    "# YOUR CODE HERE\n",
    "# create model named 'lp_1' and use x1 and x2\n",
    "lp_1 = pl.LpProblem(name='Problem1',\n",
    "                   sense=pl.LpMaximize)"
   ]
  },
  {
   "cell_type": "code",
   "execution_count": 3,
   "id": "dd2023b9",
   "metadata": {},
   "outputs": [],
   "source": [
    "# Create two variables 'x1' and 'x2'\n",
    "x1 = pl.LpVariable('x1', 0, None)\n",
    "x2 = pl.LpVariable('x2', 0, None)"
   ]
  },
  {
   "cell_type": "code",
   "execution_count": 4,
   "id": "c9a3d9c0",
   "metadata": {},
   "outputs": [],
   "source": [
    "# Create maximize objective fucntion from prompt\n",
    "lp_1 += 4*x1 + 8*x2 "
   ]
  },
  {
   "cell_type": "code",
   "execution_count": 5,
   "id": "a51a3314",
   "metadata": {},
   "outputs": [],
   "source": [
    "# Create constraints\n",
    "lp_1 += 5*x1 + 1*x2 <= 8, 'constraint one'\n",
    "lp_1 += 6*x1 + 2*x2 <= 4, 'constraint two'\n",
    "lp_1 += x1 >= 0, 'x1 non-negativity'\n",
    "lp_1 += x2 >= 0, 'x2 non-negativity'"
   ]
  },
  {
   "cell_type": "code",
   "execution_count": 6,
   "id": "a748a922",
   "metadata": {},
   "outputs": [
    {
     "data": {
      "text/plain": [
       "1"
      ]
     },
     "execution_count": 6,
     "metadata": {},
     "output_type": "execute_result"
    }
   ],
   "source": [
    "# Use PuLP's Solver\n",
    "lp_1.solve()"
   ]
  },
  {
   "cell_type": "code",
   "execution_count": 7,
   "id": "ade52638",
   "metadata": {},
   "outputs": [
    {
     "data": {
      "text/plain": [
       "'Optimal'"
      ]
     },
     "execution_count": 7,
     "metadata": {},
     "output_type": "execute_result"
    }
   ],
   "source": [
    "# Check lp_1 status - confirm optimal\n",
    "pl.LpStatus[lp_1.status]"
   ]
  },
  {
   "cell_type": "code",
   "execution_count": 8,
   "id": "3ffa598b",
   "metadata": {},
   "outputs": [
    {
     "data": {
      "text/plain": [
       "16.0"
      ]
     },
     "execution_count": 8,
     "metadata": {},
     "output_type": "execute_result"
    }
   ],
   "source": [
    "# Check lp_1 objective\n",
    "pl.value(lp_1.objective)\n",
    "# objective = 16.0 from output"
   ]
  },
  {
   "cell_type": "code",
   "execution_count": 9,
   "id": "86fafbbf",
   "metadata": {},
   "outputs": [
    {
     "name": "stdout",
     "output_type": "stream",
     "text": [
      "x1 = 0.0\n",
      "x2 = 2.0\n"
     ]
    }
   ],
   "source": [
    "# Optimal Solution\n",
    "for v in lp_1.variables():\n",
    "    print(v.name, '=', v.varValue)"
   ]
  },
  {
   "cell_type": "code",
   "execution_count": 10,
   "id": "88714f59-7225-46f6-8fec-5141dee30040",
   "metadata": {
    "deletable": false,
    "editable": false
   },
   "outputs": [],
   "source": [
    "# This is a test cell\n",
    "# If **NO** message is printed, it means that the tests passed\n",
    "# One basic test to see if your code works\n",
    "var1 = lp_1.variables()[0].name\n",
    "assert_equal(var1, 'x1', msg='You did not name the first variable x1')"
   ]
  },
  {
   "cell_type": "code",
   "execution_count": 11,
   "id": "1283df12-36da-4c08-a16f-0594d4369780",
   "metadata": {
    "deletable": false,
    "editable": false
   },
   "outputs": [],
   "source": [
    "# This is a test cell\n",
    "# If **NO** message is printed, it means that the tests passed\n",
    "# One basic test to see if your code works\n",
    "var2 = lp_1.variables()[1].name\n",
    "assert_equal(var2, 'x2', msg='You did not name the second variable x2')"
   ]
  },
  {
   "cell_type": "markdown",
   "id": "94c552ed",
   "metadata": {
    "deletable": false,
    "editable": false
   },
   "source": [
    "<hr>"
   ]
  },
  {
   "cell_type": "markdown",
   "id": "06a96844",
   "metadata": {
    "deletable": false,
    "editable": false
   },
   "source": [
    "----\n",
    "\n",
    "# Problem 2\n",
    "\n",
    "Use PuLP to solve the following linear programming problem:\n",
    "\n",
    "$$\n",
    "\\begin{array}{lrccccccccl}\n",
    "\\max & z & = & -10y_{1} & - & 12y_{2} & + & 8y_{3} & \\\\\n",
    "\\textrm{subject to} & & & -4y_{1} & - & 8y_{2} & + & 4y_{3} & \\leq & 16 & \\textrm{first constraint} \\\\\n",
    " & & & 4y_{1} & - & 2y_{2} & + & 2y_{3} & \\leq & 20 & \\textrm{second constraint}\\\\\n",
    " & & & y_{1} \\geq 0, & & y_{2} \\geq 0, & & y_{3} \\geq 0 & & & \\textrm{non-negativity}\n",
    "\\end{array}\n",
    "$$\n",
    "\n",
    "Create and store the problem instance in a variable named `lp_2`. Name the variables `y1`, `y2`, and `y3`."
   ]
  },
  {
   "cell_type": "code",
   "execution_count": 12,
   "id": "4e2d4282",
   "metadata": {
    "deletable": false
   },
   "outputs": [],
   "source": [
    "# YOUR CODE HERE\n",
    "# create model named 'lp_1' and use y1, y2, and y3\n",
    "lp_2 = pl.LpProblem(name='Problem2',\n",
    "                   sense=pl.LpMaximize)"
   ]
  },
  {
   "cell_type": "code",
   "execution_count": 13,
   "id": "297a8735",
   "metadata": {},
   "outputs": [],
   "source": [
    "# Create three variables 'y1', 'y2' and 'y3'\n",
    "y1 = pl.LpVariable('y1', 0, None)\n",
    "y2 = pl.LpVariable('y2', 0, None)\n",
    "y3 = pl.LpVariable('y3', 0, None)"
   ]
  },
  {
   "cell_type": "code",
   "execution_count": 14,
   "id": "5b35f765",
   "metadata": {},
   "outputs": [],
   "source": [
    "# Create maximize objective fucntion from prompt\n",
    "lp_2 += -10*y1 - 12*y2 + 8*y3 "
   ]
  },
  {
   "cell_type": "code",
   "execution_count": 15,
   "id": "8e486183",
   "metadata": {},
   "outputs": [],
   "source": [
    "# Create constraints\n",
    "lp_2 += -4*y1 - 8*y2 + 4*y3 <= 16, 'first constraint'\n",
    "lp_2 += 4*y1 - 2*y2 + 2*y3 <= 20, 'second constraint'\n",
    "lp_2 += y1 >= 0, 'y1 non-negativity'\n",
    "lp_2 += y2 >= 0, 'y2 non-negativity'\n",
    "lp_2 += y3 >= 0, 'y3 non-neagtivity'"
   ]
  },
  {
   "cell_type": "code",
   "execution_count": 16,
   "id": "d25d3d4b",
   "metadata": {},
   "outputs": [
    {
     "data": {
      "text/plain": [
       "1"
      ]
     },
     "execution_count": 16,
     "metadata": {},
     "output_type": "execute_result"
    }
   ],
   "source": [
    "# Use PuLP's Solver\n",
    "lp_2.solve()"
   ]
  },
  {
   "cell_type": "code",
   "execution_count": 17,
   "id": "3004f0ce",
   "metadata": {},
   "outputs": [
    {
     "data": {
      "text/plain": [
       "'Optimal'"
      ]
     },
     "execution_count": 17,
     "metadata": {},
     "output_type": "execute_result"
    }
   ],
   "source": [
    "# Check lp_2 status - confirm optimal\n",
    "pl.LpStatus[lp_2.status]"
   ]
  },
  {
   "cell_type": "code",
   "execution_count": 18,
   "id": "54e64add",
   "metadata": {},
   "outputs": [
    {
     "data": {
      "text/plain": [
       "56.0"
      ]
     },
     "execution_count": 18,
     "metadata": {},
     "output_type": "execute_result"
    }
   ],
   "source": [
    "# Check lp_2 objective\n",
    "pl.value(lp_2.objective)\n",
    "# objective = 56.0 from output"
   ]
  },
  {
   "cell_type": "code",
   "execution_count": 19,
   "id": "a400d8c9",
   "metadata": {},
   "outputs": [
    {
     "name": "stdout",
     "output_type": "stream",
     "text": [
      "y1 = 0.0\n",
      "y2 = 6.0\n",
      "y3 = 16.0\n"
     ]
    }
   ],
   "source": [
    "# Optimal Solution\n",
    "for v in lp_2.variables():\n",
    "    print(v.name, '=', v.varValue)"
   ]
  },
  {
   "cell_type": "code",
   "execution_count": 20,
   "id": "a4db7001-dc9c-4cd4-b5ef-8c4e8e1d1557",
   "metadata": {
    "deletable": false,
    "editable": false
   },
   "outputs": [],
   "source": [
    "# This is a test cell\n",
    "# If **NO** message is printed, it means that the tests passed\n",
    "# One basic test to see if your code works\n",
    "var_1 = lp_2.variables()[0].name\n",
    "assert_equal(var_1, 'y1', msg='You did not name the first variable y1')"
   ]
  },
  {
   "cell_type": "code",
   "execution_count": 21,
   "id": "e8e72814-0dd9-467f-859e-b28d63cb9da5",
   "metadata": {
    "deletable": false,
    "editable": false
   },
   "outputs": [],
   "source": [
    "# This is a test cell\n",
    "# If **NO** message is printed, it means that the tests passed\n",
    "# One basic test to see if your code works\n",
    "var_2 = lp_2.variables()[1].name\n",
    "assert_equal(var_2, 'y2', msg='You did not name the second variable y2')"
   ]
  },
  {
   "cell_type": "code",
   "execution_count": 22,
   "id": "7df5f05a-5210-4d69-92c6-ac84ed7d281b",
   "metadata": {
    "deletable": false,
    "editable": false
   },
   "outputs": [],
   "source": [
    "# This is a test cell\n",
    "# If **NO** message is printed, it means that the tests passed\n",
    "# One basic test to see if your code works\n",
    "var_3 = lp_2.variables()[2].name\n",
    "assert_equal(var_3, 'y3', msg='You did not name the third variable y3')"
   ]
  },
  {
   "cell_type": "markdown",
   "id": "181b7eb2",
   "metadata": {
    "deletable": false,
    "editable": false
   },
   "source": [
    "<hr>"
   ]
  },
  {
   "cell_type": "markdown",
   "id": "f963e137",
   "metadata": {
    "deletable": false,
    "editable": false
   },
   "source": [
    "---- \n",
    "\n",
    "# Problem 3\n",
    "\n",
    "The Energysaver Window Company manufactures casement, crank out, and double hung storm windows at their Ashland, Boydton, and Chesapeake plants. The daily output for the three plants is 200 casement, 400 crank out, and 600 double hung windows at Ashland; 600 casement, 300 crank out, and 300 double hung windows at Boydton; and 600 casement, 900 crank out, and 1300 double hung windows at Chesapeake. All plants are operating well below capacity, and the Chesapeake plant, though large, is old and inefficient. The company would benefit from its closing. Is there some combination of outputs from the other two plants that will equal the output of the Chesapeake plant?\n",
    "\n",
    "Formulate this problem as a linear programming problem and solve it using PuLP. Create and store the problem instance in a variable named `windows`. You should minimize the total number of days used at Ashland and Boydton plants in order to match the output of the Chesapeake plant."
   ]
  },
  {
   "cell_type": "code",
   "execution_count": 23,
   "id": "fc4afca9",
   "metadata": {
    "deletable": false
   },
   "outputs": [],
   "source": [
    "# YOUR CODE HERE\n",
    "# YOUR CODE HERE\n",
    "# create model named 'windows'\n",
    "windows = pl.LpProblem(name='Problem3',\n",
    "                   sense=pl.LpMinimize)"
   ]
  },
  {
   "cell_type": "code",
   "execution_count": 24,
   "id": "02c23029",
   "metadata": {},
   "outputs": [],
   "source": [
    "# Create six variables\n",
    "X1 = pl.LpVariable('Ashland_Plant', 0, None)\n",
    "X2 = pl.LpVariable('Boydton_Plant', 0, None)"
   ]
  },
  {
   "cell_type": "code",
   "execution_count": 25,
   "id": "fa71474c",
   "metadata": {},
   "outputs": [],
   "source": [
    "# Create minimize objective fucntion for time\n",
    "windows += X1 + X2"
   ]
  },
  {
   "cell_type": "code",
   "execution_count": 26,
   "id": "c340269e",
   "metadata": {},
   "outputs": [],
   "source": [
    "# Create constraints\n",
    "# Town Hall Question -- getting no output for Boydton\n",
    "windows += 200*X1 + 600*X2 >= 600, 'Casement'\n",
    "windows += 400*X1 + 300*X2 >= 900, 'Crank Out'\n",
    "windows += 600*X1 + 300*X2 >= 1300, 'Double Hung'\n",
    "windows += X1 >= 0, 'Ashland non-negativity'\n",
    "windows += X2 >= 0, 'Boydton non-negativity'"
   ]
  },
  {
   "cell_type": "code",
   "execution_count": 32,
   "id": "15659f8a",
   "metadata": {},
   "outputs": [
    {
     "data": {
      "text/plain": [
       "1"
      ]
     },
     "execution_count": 32,
     "metadata": {},
     "output_type": "execute_result"
    }
   ],
   "source": [
    "# Use PuLP's Solver\n",
    "windows.solve()"
   ]
  },
  {
   "cell_type": "code",
   "execution_count": 33,
   "id": "8a284d7c",
   "metadata": {},
   "outputs": [
    {
     "data": {
      "text/plain": [
       "'Optimal'"
      ]
     },
     "execution_count": 33,
     "metadata": {},
     "output_type": "execute_result"
    }
   ],
   "source": [
    "# Check lp_2 status - confirm optimal\n",
    "pl.LpStatus[windows.status]"
   ]
  },
  {
   "cell_type": "code",
   "execution_count": 34,
   "id": "d398e57e",
   "metadata": {},
   "outputs": [
    {
     "data": {
      "text/plain": [
       "2.33333333"
      ]
     },
     "execution_count": 34,
     "metadata": {},
     "output_type": "execute_result"
    }
   ],
   "source": [
    "# Check windows objective\n",
    "pl.value(windows.objective)\n",
    "# objective = 2.333 repeating from output"
   ]
  },
  {
   "cell_type": "code",
   "execution_count": 35,
   "id": "9ef07f43",
   "metadata": {},
   "outputs": [
    {
     "name": "stdout",
     "output_type": "stream",
     "text": [
      "Ashland_Plant = 2.0\n",
      "Boydton_Plant = 0.33333333\n"
     ]
    }
   ],
   "source": [
    "# Optimal Solution\n",
    "for v in windows.variables():\n",
    "    print(v.name, '=', v.varValue)"
   ]
  },
  {
   "cell_type": "code",
   "execution_count": 36,
   "id": "7189d0f9-26e1-4ab7-86d4-27246d38cdb4",
   "metadata": {
    "deletable": false,
    "editable": false
   },
   "outputs": [],
   "source": [
    "# This is a test cell\n",
    "# If **NO** message is printed, it means that the tests passed\n",
    "# One basic test to see if your code works\n",
    "assert_in('windows', dir(), msg='You did not name the variable `windows` as instructed')"
   ]
  },
  {
   "cell_type": "markdown",
   "id": "ff396024",
   "metadata": {
    "deletable": false,
    "editable": false
   },
   "source": [
    "<hr>"
   ]
  },
  {
   "cell_type": "markdown",
   "id": "0d2f56a9",
   "metadata": {
    "deletable": false,
    "editable": false
   },
   "source": [
    "**&copy; 2022 - Present: Matthew D. Dean, Ph.D.   \n",
    "Clinical Associate Professor of Business Analytics at William \\& Mary.**"
   ]
  }
 ],
 "metadata": {
  "kernelspec": {
   "display_name": "Python 3 (ipykernel)",
   "language": "python",
   "name": "python3"
  },
  "language_info": {
   "codemirror_mode": {
    "name": "ipython",
    "version": 3
   },
   "file_extension": ".py",
   "mimetype": "text/x-python",
   "name": "python",
   "nbconvert_exporter": "python",
   "pygments_lexer": "ipython3",
   "version": "3.9.13"
  }
 },
 "nbformat": 4,
 "nbformat_minor": 5
}
