{
 "cells": [
  {
   "cell_type": "markdown",
   "id": "8b390188",
   "metadata": {
    "deletable": false,
    "editable": false
   },
   "source": [
    "<font color='red' size='6'>REMINDER</font>\n",
    "\n",
    "# Fill in any place that says `YOUR CODE HERE`.\n",
    "- You should remove the line that says `raise NotImplementedError()`. If you do not, your code will (unsurprisingly) throw a run-time error and cause everything to fail.\n",
    "- Do **NOT** write your answer anywhere else other than where it says `YOUR CODE HERE`. Simply write your code directly below this comment in the **same code cell**.\n",
    "\n",
    "# Make sure everything runs as expected.\n",
    "- Go to the menubar, select *Kernel* > *Restart & Run All*\n",
    "\n",
    "# Do <ins>NOT</ins> change the title (i.e., file name) of this notebook.\n",
    "\n",
    "# Do <ins>NOT</ins> delete any of the cells in this notebook.\n",
    "\n",
    "# Make sure you save your work\n",
    "- Go to the menubar, select *File* > *Save and Checkpoint*"
   ]
  },
  {
   "cell_type": "markdown",
   "id": "dd7ebdcc",
   "metadata": {
    "deletable": false,
    "editable": false
   },
   "source": [
    "----\n",
    "\n",
    "# Problem Description \n",
    "\n",
    "You have been contracted to help a US-based hotel chain with some data analysis. They have provided you historical survey results and want to be able to use the data to help predict someone's intent to recommend the hotel to their friends. The file can be found in the `data` subfolder and is named `hotel_survey.xlsx`.\n",
    "\n",
    "The data dictionary is as follows:\n",
    "- Record ID: a unique identifier for the survey response\n",
    "- Arrival Date: the date when the person stayed at the hotel\n",
    "- Loyalty Program Tier: the patron's loyalty tier \n",
    "- Age: the age, in years, of the patron\n",
    "- Gender: the gender of the patron\n",
    "- Maintenance and Upkeep: a rating between 1 and 10 of how the patron perceived the hotel's maintenance and upkeep\n",
    "- Staff Service Overall: a rating between 1 and 10 of how the patron perceived the overall service from the hotel staff\n",
    "- Overall Satisfaction: a rating between 1 and 10 of the patron's overall satisfication with their stay\n",
    "- Intent To Recommend: a rating between 1 and 10 of how likely the patron will recommend the hotel to their friends\n",
    "\n",
    "For all of the ratings, a higher number is better.\n",
    "\n",
    "Complete the following steps for your analysis."
   ]
  },
  {
   "cell_type": "code",
   "execution_count": 1,
   "id": "8931f4d9",
   "metadata": {
    "deletable": false,
    "editable": false
   },
   "outputs": [],
   "source": [
    "# Run this code cell \n",
    "from nose.tools import assert_equal, assert_in, assert_is_instance\n",
    "from nose.tools import assert_almost_equal, assert_not_equal"
   ]
  },
  {
   "cell_type": "markdown",
   "id": "f5869791",
   "metadata": {
    "deletable": false,
    "editable": false
   },
   "source": [
    "## Step 1\n",
    "\n",
    "Read the data from the file into a `DataFrame` named `hotel`."
   ]
  },
  {
   "cell_type": "code",
   "execution_count": 2,
   "id": "21d2426c",
   "metadata": {
    "deletable": false
   },
   "outputs": [],
   "source": [
    "# YOUR CODE HERE\n",
    "import pandas as pd\n",
    "\n",
    "# read in the file\n",
    "hotel = pd.read_excel('./data/hotel_survey.xlsx')"
   ]
  },
  {
   "cell_type": "code",
   "execution_count": 3,
   "id": "1d095ce5",
   "metadata": {},
   "outputs": [
    {
     "data": {
      "text/html": [
       "<div>\n",
       "<style scoped>\n",
       "    .dataframe tbody tr th:only-of-type {\n",
       "        vertical-align: middle;\n",
       "    }\n",
       "\n",
       "    .dataframe tbody tr th {\n",
       "        vertical-align: top;\n",
       "    }\n",
       "\n",
       "    .dataframe thead th {\n",
       "        text-align: right;\n",
       "    }\n",
       "</style>\n",
       "<table border=\"1\" class=\"dataframe\">\n",
       "  <thead>\n",
       "    <tr style=\"text-align: right;\">\n",
       "      <th></th>\n",
       "      <th>Record ID</th>\n",
       "      <th>Arrival Date</th>\n",
       "      <th>Loyalty Program Tier</th>\n",
       "      <th>Age</th>\n",
       "      <th>Gender</th>\n",
       "      <th>Maintenance and Upkeep</th>\n",
       "      <th>Staff Service Overall</th>\n",
       "      <th>Overall Satisfaction</th>\n",
       "      <th>Intent To Recommend</th>\n",
       "    </tr>\n",
       "  </thead>\n",
       "  <tbody>\n",
       "    <tr>\n",
       "      <th>0</th>\n",
       "      <td>1</td>\n",
       "      <td>2019-02-08</td>\n",
       "      <td>Basic</td>\n",
       "      <td>92</td>\n",
       "      <td>Female</td>\n",
       "      <td>8</td>\n",
       "      <td>5</td>\n",
       "      <td>7</td>\n",
       "      <td>5</td>\n",
       "    </tr>\n",
       "    <tr>\n",
       "      <th>1</th>\n",
       "      <td>2</td>\n",
       "      <td>2019-05-26</td>\n",
       "      <td>Silver</td>\n",
       "      <td>58</td>\n",
       "      <td>Female</td>\n",
       "      <td>8</td>\n",
       "      <td>5</td>\n",
       "      <td>6</td>\n",
       "      <td>5</td>\n",
       "    </tr>\n",
       "    <tr>\n",
       "      <th>2</th>\n",
       "      <td>3</td>\n",
       "      <td>2019-10-12</td>\n",
       "      <td>Non-Member</td>\n",
       "      <td>81</td>\n",
       "      <td>Female</td>\n",
       "      <td>10</td>\n",
       "      <td>8</td>\n",
       "      <td>5</td>\n",
       "      <td>4</td>\n",
       "    </tr>\n",
       "    <tr>\n",
       "      <th>3</th>\n",
       "      <td>4</td>\n",
       "      <td>2019-09-30</td>\n",
       "      <td>Non-Member</td>\n",
       "      <td>68</td>\n",
       "      <td>Male</td>\n",
       "      <td>7</td>\n",
       "      <td>6</td>\n",
       "      <td>5</td>\n",
       "      <td>4</td>\n",
       "    </tr>\n",
       "    <tr>\n",
       "      <th>4</th>\n",
       "      <td>5</td>\n",
       "      <td>2019-09-16</td>\n",
       "      <td>Basic</td>\n",
       "      <td>54</td>\n",
       "      <td>Female</td>\n",
       "      <td>10</td>\n",
       "      <td>8</td>\n",
       "      <td>7</td>\n",
       "      <td>9</td>\n",
       "    </tr>\n",
       "    <tr>\n",
       "      <th>...</th>\n",
       "      <td>...</td>\n",
       "      <td>...</td>\n",
       "      <td>...</td>\n",
       "      <td>...</td>\n",
       "      <td>...</td>\n",
       "      <td>...</td>\n",
       "      <td>...</td>\n",
       "      <td>...</td>\n",
       "      <td>...</td>\n",
       "    </tr>\n",
       "    <tr>\n",
       "      <th>8467</th>\n",
       "      <td>8468</td>\n",
       "      <td>2019-07-26</td>\n",
       "      <td>Non-Member</td>\n",
       "      <td>70</td>\n",
       "      <td>Female</td>\n",
       "      <td>10</td>\n",
       "      <td>9</td>\n",
       "      <td>10</td>\n",
       "      <td>10</td>\n",
       "    </tr>\n",
       "    <tr>\n",
       "      <th>8468</th>\n",
       "      <td>8469</td>\n",
       "      <td>2019-09-30</td>\n",
       "      <td>Platinum</td>\n",
       "      <td>68</td>\n",
       "      <td>Male</td>\n",
       "      <td>9</td>\n",
       "      <td>8</td>\n",
       "      <td>5</td>\n",
       "      <td>7</td>\n",
       "    </tr>\n",
       "    <tr>\n",
       "      <th>8469</th>\n",
       "      <td>8470</td>\n",
       "      <td>2019-11-25</td>\n",
       "      <td>Basic</td>\n",
       "      <td>45</td>\n",
       "      <td>Male</td>\n",
       "      <td>8</td>\n",
       "      <td>5</td>\n",
       "      <td>5</td>\n",
       "      <td>3</td>\n",
       "    </tr>\n",
       "    <tr>\n",
       "      <th>8470</th>\n",
       "      <td>8471</td>\n",
       "      <td>2019-03-19</td>\n",
       "      <td>Non-Member</td>\n",
       "      <td>38</td>\n",
       "      <td>Female</td>\n",
       "      <td>8</td>\n",
       "      <td>9</td>\n",
       "      <td>8</td>\n",
       "      <td>8</td>\n",
       "    </tr>\n",
       "    <tr>\n",
       "      <th>8471</th>\n",
       "      <td>8472</td>\n",
       "      <td>2019-07-02</td>\n",
       "      <td>Platinum</td>\n",
       "      <td>69</td>\n",
       "      <td>Male</td>\n",
       "      <td>10</td>\n",
       "      <td>9</td>\n",
       "      <td>10</td>\n",
       "      <td>8</td>\n",
       "    </tr>\n",
       "  </tbody>\n",
       "</table>\n",
       "<p>8472 rows × 9 columns</p>\n",
       "</div>"
      ],
      "text/plain": [
       "      Record ID Arrival Date Loyalty Program Tier  Age  Gender  \\\n",
       "0             1   2019-02-08                Basic   92  Female   \n",
       "1             2   2019-05-26               Silver   58  Female   \n",
       "2             3   2019-10-12           Non-Member   81  Female   \n",
       "3             4   2019-09-30           Non-Member   68    Male   \n",
       "4             5   2019-09-16                Basic   54  Female   \n",
       "...         ...          ...                  ...  ...     ...   \n",
       "8467       8468   2019-07-26           Non-Member   70  Female   \n",
       "8468       8469   2019-09-30             Platinum   68    Male   \n",
       "8469       8470   2019-11-25                Basic   45    Male   \n",
       "8470       8471   2019-03-19           Non-Member   38  Female   \n",
       "8471       8472   2019-07-02             Platinum   69    Male   \n",
       "\n",
       "      Maintenance and Upkeep  Staff Service Overall  Overall Satisfaction  \\\n",
       "0                          8                      5                     7   \n",
       "1                          8                      5                     6   \n",
       "2                         10                      8                     5   \n",
       "3                          7                      6                     5   \n",
       "4                         10                      8                     7   \n",
       "...                      ...                    ...                   ...   \n",
       "8467                      10                      9                    10   \n",
       "8468                       9                      8                     5   \n",
       "8469                       8                      5                     5   \n",
       "8470                       8                      9                     8   \n",
       "8471                      10                      9                    10   \n",
       "\n",
       "      Intent To Recommend  \n",
       "0                       5  \n",
       "1                       5  \n",
       "2                       4  \n",
       "3                       4  \n",
       "4                       9  \n",
       "...                   ...  \n",
       "8467                   10  \n",
       "8468                    7  \n",
       "8469                    3  \n",
       "8470                    8  \n",
       "8471                    8  \n",
       "\n",
       "[8472 rows x 9 columns]"
      ]
     },
     "execution_count": 3,
     "metadata": {},
     "output_type": "execute_result"
    }
   ],
   "source": [
    "# view hotel and info\n",
    "hotel"
   ]
  },
  {
   "cell_type": "code",
   "execution_count": 4,
   "id": "b6d420cf",
   "metadata": {},
   "outputs": [
    {
     "name": "stdout",
     "output_type": "stream",
     "text": [
      "<class 'pandas.core.frame.DataFrame'>\n",
      "RangeIndex: 8472 entries, 0 to 8471\n",
      "Data columns (total 9 columns):\n",
      " #   Column                  Non-Null Count  Dtype         \n",
      "---  ------                  --------------  -----         \n",
      " 0   Record ID               8472 non-null   int64         \n",
      " 1   Arrival Date            8472 non-null   datetime64[ns]\n",
      " 2   Loyalty Program Tier    8472 non-null   object        \n",
      " 3   Age                     8472 non-null   int64         \n",
      " 4   Gender                  8472 non-null   object        \n",
      " 5   Maintenance and Upkeep  8472 non-null   int64         \n",
      " 6   Staff Service Overall   8472 non-null   int64         \n",
      " 7   Overall Satisfaction    8472 non-null   int64         \n",
      " 8   Intent To Recommend     8472 non-null   int64         \n",
      "dtypes: datetime64[ns](1), int64(6), object(2)\n",
      "memory usage: 595.8+ KB\n"
     ]
    }
   ],
   "source": [
    "# hotel info\n",
    "hotel.info()"
   ]
  },
  {
   "cell_type": "code",
   "execution_count": 5,
   "id": "d8324714",
   "metadata": {
    "deletable": false,
    "editable": false
   },
   "outputs": [],
   "source": [
    "# This is a test cell\n",
    "# If **NO** message is printed, it means that the tests passed\n",
    "# One basic test to see if your code works\n",
    "assert_equal(hotel.shape[0], 8472, msg='You do not have the correct number of rows')\n",
    "assert_equal(hotel.shape[1], 9, msg='You do not have the correct number of columns')"
   ]
  },
  {
   "cell_type": "markdown",
   "id": "5e6dc1e9",
   "metadata": {
    "deletable": false,
    "editable": false
   },
   "source": [
    "## Step 2\n",
    "Change all the column names in `hotel` to be lower case and replace all spaces with underscores."
   ]
  },
  {
   "cell_type": "code",
   "execution_count": 6,
   "id": "24398c5c",
   "metadata": {
    "deletable": false
   },
   "outputs": [],
   "source": [
    "# YOUR CODE HERE\n",
    "# lowercase\n",
    "hotel.columns = hotel.columns.str.lower()"
   ]
  },
  {
   "cell_type": "code",
   "execution_count": 7,
   "id": "b91e54f9",
   "metadata": {},
   "outputs": [
    {
     "name": "stdout",
     "output_type": "stream",
     "text": [
      "<class 'pandas.core.frame.DataFrame'>\n",
      "RangeIndex: 8472 entries, 0 to 8471\n",
      "Data columns (total 9 columns):\n",
      " #   Column                  Non-Null Count  Dtype         \n",
      "---  ------                  --------------  -----         \n",
      " 0   record id               8472 non-null   int64         \n",
      " 1   arrival date            8472 non-null   datetime64[ns]\n",
      " 2   loyalty program tier    8472 non-null   object        \n",
      " 3   age                     8472 non-null   int64         \n",
      " 4   gender                  8472 non-null   object        \n",
      " 5   maintenance and upkeep  8472 non-null   int64         \n",
      " 6   staff service overall   8472 non-null   int64         \n",
      " 7   overall satisfaction    8472 non-null   int64         \n",
      " 8   intent to recommend     8472 non-null   int64         \n",
      "dtypes: datetime64[ns](1), int64(6), object(2)\n",
      "memory usage: 595.8+ KB\n"
     ]
    }
   ],
   "source": [
    "# confirm\n",
    "hotel.info()"
   ]
  },
  {
   "cell_type": "code",
   "execution_count": 8,
   "id": "b58984b9",
   "metadata": {},
   "outputs": [],
   "source": [
    "# remove spaces and add underscore\n",
    "hotel.rename(columns={'record id': 'record_id', 'arrival date': 'arrival_date', 'loyalty program tier': 'loyalty_program_tier',\n",
    "                     'maintenance and upkeep' : 'maintenance_and_upkeep', 'staff service overall' : 'staff_service_overall',\n",
    "                     'overall satisfaction' : 'overall_satisfaction', 'intent to recommend' : 'intent_to_recommend'}, inplace=True)"
   ]
  },
  {
   "cell_type": "code",
   "execution_count": 9,
   "id": "ebf6b3b3",
   "metadata": {},
   "outputs": [
    {
     "name": "stdout",
     "output_type": "stream",
     "text": [
      "<class 'pandas.core.frame.DataFrame'>\n",
      "RangeIndex: 8472 entries, 0 to 8471\n",
      "Data columns (total 9 columns):\n",
      " #   Column                  Non-Null Count  Dtype         \n",
      "---  ------                  --------------  -----         \n",
      " 0   record_id               8472 non-null   int64         \n",
      " 1   arrival_date            8472 non-null   datetime64[ns]\n",
      " 2   loyalty_program_tier    8472 non-null   object        \n",
      " 3   age                     8472 non-null   int64         \n",
      " 4   gender                  8472 non-null   object        \n",
      " 5   maintenance_and_upkeep  8472 non-null   int64         \n",
      " 6   staff_service_overall   8472 non-null   int64         \n",
      " 7   overall_satisfaction    8472 non-null   int64         \n",
      " 8   intent_to_recommend     8472 non-null   int64         \n",
      "dtypes: datetime64[ns](1), int64(6), object(2)\n",
      "memory usage: 595.8+ KB\n"
     ]
    }
   ],
   "source": [
    "# confirm all lowercase and all spaces replaced with underscores\n",
    "hotel.info()"
   ]
  },
  {
   "cell_type": "code",
   "execution_count": 10,
   "id": "b6592dfc-e2ae-43cb-9608-cfe8cb6eeaac",
   "metadata": {
    "deletable": false,
    "editable": false
   },
   "outputs": [],
   "source": [
    "# This is a test cell\n",
    "# If **NO** message is printed, it means that the tests passed\n",
    "# One basic test to see if your code works\n",
    "assert_equal(hotel.columns[5], 'maintenance_and_upkeep', msg='You did not replace the column names correctly')"
   ]
  },
  {
   "cell_type": "markdown",
   "id": "c6560019",
   "metadata": {
    "deletable": false,
    "editable": false
   },
   "source": [
    "<hr>"
   ]
  },
  {
   "cell_type": "markdown",
   "id": "c1aa57ac",
   "metadata": {
    "deletable": false,
    "editable": false
   },
   "source": [
    "## Step 3\n",
    "Create dummy variables for the categorical columns being sure to use the argument `dtype=int` to make the values in the new columns 0 or 1. Store the resulting `DataFrame` in a variable named `hotel_coded`."
   ]
  },
  {
   "cell_type": "code",
   "execution_count": 11,
   "id": "09213857",
   "metadata": {
    "deletable": false
   },
   "outputs": [],
   "source": [
    "# YOUR CODE HERE\n",
    "hotel_coded = pd.get_dummies(data=hotel, dtype=int)"
   ]
  },
  {
   "cell_type": "code",
   "execution_count": 12,
   "id": "2aaabec8",
   "metadata": {},
   "outputs": [
    {
     "data": {
      "text/html": [
       "<div>\n",
       "<style scoped>\n",
       "    .dataframe tbody tr th:only-of-type {\n",
       "        vertical-align: middle;\n",
       "    }\n",
       "\n",
       "    .dataframe tbody tr th {\n",
       "        vertical-align: top;\n",
       "    }\n",
       "\n",
       "    .dataframe thead th {\n",
       "        text-align: right;\n",
       "    }\n",
       "</style>\n",
       "<table border=\"1\" class=\"dataframe\">\n",
       "  <thead>\n",
       "    <tr style=\"text-align: right;\">\n",
       "      <th></th>\n",
       "      <th>record_id</th>\n",
       "      <th>arrival_date</th>\n",
       "      <th>age</th>\n",
       "      <th>maintenance_and_upkeep</th>\n",
       "      <th>staff_service_overall</th>\n",
       "      <th>overall_satisfaction</th>\n",
       "      <th>intent_to_recommend</th>\n",
       "      <th>loyalty_program_tier_Basic</th>\n",
       "      <th>loyalty_program_tier_Gold</th>\n",
       "      <th>loyalty_program_tier_Non-Member</th>\n",
       "      <th>loyalty_program_tier_Platinum</th>\n",
       "      <th>loyalty_program_tier_Silver</th>\n",
       "      <th>gender_Female</th>\n",
       "      <th>gender_Male</th>\n",
       "    </tr>\n",
       "  </thead>\n",
       "  <tbody>\n",
       "    <tr>\n",
       "      <th>0</th>\n",
       "      <td>1</td>\n",
       "      <td>2019-02-08</td>\n",
       "      <td>92</td>\n",
       "      <td>8</td>\n",
       "      <td>5</td>\n",
       "      <td>7</td>\n",
       "      <td>5</td>\n",
       "      <td>1</td>\n",
       "      <td>0</td>\n",
       "      <td>0</td>\n",
       "      <td>0</td>\n",
       "      <td>0</td>\n",
       "      <td>1</td>\n",
       "      <td>0</td>\n",
       "    </tr>\n",
       "    <tr>\n",
       "      <th>1</th>\n",
       "      <td>2</td>\n",
       "      <td>2019-05-26</td>\n",
       "      <td>58</td>\n",
       "      <td>8</td>\n",
       "      <td>5</td>\n",
       "      <td>6</td>\n",
       "      <td>5</td>\n",
       "      <td>0</td>\n",
       "      <td>0</td>\n",
       "      <td>0</td>\n",
       "      <td>0</td>\n",
       "      <td>1</td>\n",
       "      <td>1</td>\n",
       "      <td>0</td>\n",
       "    </tr>\n",
       "    <tr>\n",
       "      <th>2</th>\n",
       "      <td>3</td>\n",
       "      <td>2019-10-12</td>\n",
       "      <td>81</td>\n",
       "      <td>10</td>\n",
       "      <td>8</td>\n",
       "      <td>5</td>\n",
       "      <td>4</td>\n",
       "      <td>0</td>\n",
       "      <td>0</td>\n",
       "      <td>1</td>\n",
       "      <td>0</td>\n",
       "      <td>0</td>\n",
       "      <td>1</td>\n",
       "      <td>0</td>\n",
       "    </tr>\n",
       "    <tr>\n",
       "      <th>3</th>\n",
       "      <td>4</td>\n",
       "      <td>2019-09-30</td>\n",
       "      <td>68</td>\n",
       "      <td>7</td>\n",
       "      <td>6</td>\n",
       "      <td>5</td>\n",
       "      <td>4</td>\n",
       "      <td>0</td>\n",
       "      <td>0</td>\n",
       "      <td>1</td>\n",
       "      <td>0</td>\n",
       "      <td>0</td>\n",
       "      <td>0</td>\n",
       "      <td>1</td>\n",
       "    </tr>\n",
       "    <tr>\n",
       "      <th>4</th>\n",
       "      <td>5</td>\n",
       "      <td>2019-09-16</td>\n",
       "      <td>54</td>\n",
       "      <td>10</td>\n",
       "      <td>8</td>\n",
       "      <td>7</td>\n",
       "      <td>9</td>\n",
       "      <td>1</td>\n",
       "      <td>0</td>\n",
       "      <td>0</td>\n",
       "      <td>0</td>\n",
       "      <td>0</td>\n",
       "      <td>1</td>\n",
       "      <td>0</td>\n",
       "    </tr>\n",
       "    <tr>\n",
       "      <th>...</th>\n",
       "      <td>...</td>\n",
       "      <td>...</td>\n",
       "      <td>...</td>\n",
       "      <td>...</td>\n",
       "      <td>...</td>\n",
       "      <td>...</td>\n",
       "      <td>...</td>\n",
       "      <td>...</td>\n",
       "      <td>...</td>\n",
       "      <td>...</td>\n",
       "      <td>...</td>\n",
       "      <td>...</td>\n",
       "      <td>...</td>\n",
       "      <td>...</td>\n",
       "    </tr>\n",
       "    <tr>\n",
       "      <th>8467</th>\n",
       "      <td>8468</td>\n",
       "      <td>2019-07-26</td>\n",
       "      <td>70</td>\n",
       "      <td>10</td>\n",
       "      <td>9</td>\n",
       "      <td>10</td>\n",
       "      <td>10</td>\n",
       "      <td>0</td>\n",
       "      <td>0</td>\n",
       "      <td>1</td>\n",
       "      <td>0</td>\n",
       "      <td>0</td>\n",
       "      <td>1</td>\n",
       "      <td>0</td>\n",
       "    </tr>\n",
       "    <tr>\n",
       "      <th>8468</th>\n",
       "      <td>8469</td>\n",
       "      <td>2019-09-30</td>\n",
       "      <td>68</td>\n",
       "      <td>9</td>\n",
       "      <td>8</td>\n",
       "      <td>5</td>\n",
       "      <td>7</td>\n",
       "      <td>0</td>\n",
       "      <td>0</td>\n",
       "      <td>0</td>\n",
       "      <td>1</td>\n",
       "      <td>0</td>\n",
       "      <td>0</td>\n",
       "      <td>1</td>\n",
       "    </tr>\n",
       "    <tr>\n",
       "      <th>8469</th>\n",
       "      <td>8470</td>\n",
       "      <td>2019-11-25</td>\n",
       "      <td>45</td>\n",
       "      <td>8</td>\n",
       "      <td>5</td>\n",
       "      <td>5</td>\n",
       "      <td>3</td>\n",
       "      <td>1</td>\n",
       "      <td>0</td>\n",
       "      <td>0</td>\n",
       "      <td>0</td>\n",
       "      <td>0</td>\n",
       "      <td>0</td>\n",
       "      <td>1</td>\n",
       "    </tr>\n",
       "    <tr>\n",
       "      <th>8470</th>\n",
       "      <td>8471</td>\n",
       "      <td>2019-03-19</td>\n",
       "      <td>38</td>\n",
       "      <td>8</td>\n",
       "      <td>9</td>\n",
       "      <td>8</td>\n",
       "      <td>8</td>\n",
       "      <td>0</td>\n",
       "      <td>0</td>\n",
       "      <td>1</td>\n",
       "      <td>0</td>\n",
       "      <td>0</td>\n",
       "      <td>1</td>\n",
       "      <td>0</td>\n",
       "    </tr>\n",
       "    <tr>\n",
       "      <th>8471</th>\n",
       "      <td>8472</td>\n",
       "      <td>2019-07-02</td>\n",
       "      <td>69</td>\n",
       "      <td>10</td>\n",
       "      <td>9</td>\n",
       "      <td>10</td>\n",
       "      <td>8</td>\n",
       "      <td>0</td>\n",
       "      <td>0</td>\n",
       "      <td>0</td>\n",
       "      <td>1</td>\n",
       "      <td>0</td>\n",
       "      <td>0</td>\n",
       "      <td>1</td>\n",
       "    </tr>\n",
       "  </tbody>\n",
       "</table>\n",
       "<p>8472 rows × 14 columns</p>\n",
       "</div>"
      ],
      "text/plain": [
       "      record_id arrival_date  age  maintenance_and_upkeep  \\\n",
       "0             1   2019-02-08   92                       8   \n",
       "1             2   2019-05-26   58                       8   \n",
       "2             3   2019-10-12   81                      10   \n",
       "3             4   2019-09-30   68                       7   \n",
       "4             5   2019-09-16   54                      10   \n",
       "...         ...          ...  ...                     ...   \n",
       "8467       8468   2019-07-26   70                      10   \n",
       "8468       8469   2019-09-30   68                       9   \n",
       "8469       8470   2019-11-25   45                       8   \n",
       "8470       8471   2019-03-19   38                       8   \n",
       "8471       8472   2019-07-02   69                      10   \n",
       "\n",
       "      staff_service_overall  overall_satisfaction  intent_to_recommend  \\\n",
       "0                         5                     7                    5   \n",
       "1                         5                     6                    5   \n",
       "2                         8                     5                    4   \n",
       "3                         6                     5                    4   \n",
       "4                         8                     7                    9   \n",
       "...                     ...                   ...                  ...   \n",
       "8467                      9                    10                   10   \n",
       "8468                      8                     5                    7   \n",
       "8469                      5                     5                    3   \n",
       "8470                      9                     8                    8   \n",
       "8471                      9                    10                    8   \n",
       "\n",
       "      loyalty_program_tier_Basic  loyalty_program_tier_Gold  \\\n",
       "0                              1                          0   \n",
       "1                              0                          0   \n",
       "2                              0                          0   \n",
       "3                              0                          0   \n",
       "4                              1                          0   \n",
       "...                          ...                        ...   \n",
       "8467                           0                          0   \n",
       "8468                           0                          0   \n",
       "8469                           1                          0   \n",
       "8470                           0                          0   \n",
       "8471                           0                          0   \n",
       "\n",
       "      loyalty_program_tier_Non-Member  loyalty_program_tier_Platinum  \\\n",
       "0                                   0                              0   \n",
       "1                                   0                              0   \n",
       "2                                   1                              0   \n",
       "3                                   1                              0   \n",
       "4                                   0                              0   \n",
       "...                               ...                            ...   \n",
       "8467                                1                              0   \n",
       "8468                                0                              1   \n",
       "8469                                0                              0   \n",
       "8470                                1                              0   \n",
       "8471                                0                              1   \n",
       "\n",
       "      loyalty_program_tier_Silver  gender_Female  gender_Male  \n",
       "0                               0              1            0  \n",
       "1                               1              1            0  \n",
       "2                               0              1            0  \n",
       "3                               0              0            1  \n",
       "4                               0              1            0  \n",
       "...                           ...            ...          ...  \n",
       "8467                            0              1            0  \n",
       "8468                            0              0            1  \n",
       "8469                            0              0            1  \n",
       "8470                            0              1            0  \n",
       "8471                            0              0            1  \n",
       "\n",
       "[8472 rows x 14 columns]"
      ]
     },
     "execution_count": 12,
     "metadata": {},
     "output_type": "execute_result"
    }
   ],
   "source": [
    "# view\n",
    "hotel_coded"
   ]
  },
  {
   "cell_type": "code",
   "execution_count": 13,
   "id": "47e70338-42c5-4443-9d84-cea3e203e428",
   "metadata": {
    "deletable": false,
    "editable": false
   },
   "outputs": [],
   "source": [
    "# This is a test cell\n",
    "# If **NO** message is printed, it means that the tests passed\n",
    "# One basic test to see if your code works\n",
    "assert_equal(hotel_coded.columns[12], 'gender_Female', msg='You did not create the dummy variables correctly')\n",
    "assert_equal(hotel_coded.columns[13], 'gender_Male', msg='You did not create the dummy variables correctly')"
   ]
  },
  {
   "cell_type": "markdown",
   "id": "38f9990c",
   "metadata": {
    "deletable": false,
    "editable": false
   },
   "source": [
    "<hr>"
   ]
  },
  {
   "cell_type": "markdown",
   "id": "9d90f752",
   "metadata": {
    "deletable": false,
    "editable": false
   },
   "source": [
    "## Step 4\n",
    "Drop the column representing the non-member tier of the loyalty program and the column representing females. Be sure to keep your newly trimmed data in the variable `hotel_coded`. "
   ]
  },
  {
   "cell_type": "code",
   "execution_count": 14,
   "id": "4f45aeb2",
   "metadata": {
    "deletable": false,
    "scrolled": true
   },
   "outputs": [
    {
     "name": "stdout",
     "output_type": "stream",
     "text": [
      "<class 'pandas.core.frame.DataFrame'>\n",
      "RangeIndex: 8472 entries, 0 to 8471\n",
      "Data columns (total 14 columns):\n",
      " #   Column                           Non-Null Count  Dtype         \n",
      "---  ------                           --------------  -----         \n",
      " 0   record_id                        8472 non-null   int64         \n",
      " 1   arrival_date                     8472 non-null   datetime64[ns]\n",
      " 2   age                              8472 non-null   int64         \n",
      " 3   maintenance_and_upkeep           8472 non-null   int64         \n",
      " 4   staff_service_overall            8472 non-null   int64         \n",
      " 5   overall_satisfaction             8472 non-null   int64         \n",
      " 6   intent_to_recommend              8472 non-null   int64         \n",
      " 7   loyalty_program_tier_Basic       8472 non-null   int32         \n",
      " 8   loyalty_program_tier_Gold        8472 non-null   int32         \n",
      " 9   loyalty_program_tier_Non-Member  8472 non-null   int32         \n",
      " 10  loyalty_program_tier_Platinum    8472 non-null   int32         \n",
      " 11  loyalty_program_tier_Silver      8472 non-null   int32         \n",
      " 12  gender_Female                    8472 non-null   int32         \n",
      " 13  gender_Male                      8472 non-null   int32         \n",
      "dtypes: datetime64[ns](1), int32(7), int64(6)\n",
      "memory usage: 695.1 KB\n"
     ]
    }
   ],
   "source": [
    "# YOUR CODE HERE\n",
    "# view col names\n",
    "hotel_coded.info()"
   ]
  },
  {
   "cell_type": "code",
   "execution_count": 15,
   "id": "ec51dee7",
   "metadata": {},
   "outputs": [],
   "source": [
    "# drop loyalty_program_tier_Non-Member and gender_Female\n",
    "hotel_coded = hotel_coded.drop(columns=['loyalty_program_tier_Non-Member' , 'gender_Female'])"
   ]
  },
  {
   "cell_type": "code",
   "execution_count": 16,
   "id": "7979c22c",
   "metadata": {},
   "outputs": [
    {
     "name": "stdout",
     "output_type": "stream",
     "text": [
      "<class 'pandas.core.frame.DataFrame'>\n",
      "RangeIndex: 8472 entries, 0 to 8471\n",
      "Data columns (total 12 columns):\n",
      " #   Column                         Non-Null Count  Dtype         \n",
      "---  ------                         --------------  -----         \n",
      " 0   record_id                      8472 non-null   int64         \n",
      " 1   arrival_date                   8472 non-null   datetime64[ns]\n",
      " 2   age                            8472 non-null   int64         \n",
      " 3   maintenance_and_upkeep         8472 non-null   int64         \n",
      " 4   staff_service_overall          8472 non-null   int64         \n",
      " 5   overall_satisfaction           8472 non-null   int64         \n",
      " 6   intent_to_recommend            8472 non-null   int64         \n",
      " 7   loyalty_program_tier_Basic     8472 non-null   int32         \n",
      " 8   loyalty_program_tier_Gold      8472 non-null   int32         \n",
      " 9   loyalty_program_tier_Platinum  8472 non-null   int32         \n",
      " 10  loyalty_program_tier_Silver    8472 non-null   int32         \n",
      " 11  gender_Male                    8472 non-null   int32         \n",
      "dtypes: datetime64[ns](1), int32(5), int64(6)\n",
      "memory usage: 628.9 KB\n"
     ]
    }
   ],
   "source": [
    "# confirm dropped\n",
    "hotel_coded.info()"
   ]
  },
  {
   "cell_type": "markdown",
   "id": "7fef8537",
   "metadata": {
    "deletable": false,
    "editable": false
   },
   "source": [
    "<hr>"
   ]
  },
  {
   "cell_type": "markdown",
   "id": "3d63d200",
   "metadata": {
    "deletable": false,
    "editable": false
   },
   "source": [
    "## Step 5\n",
    "Recall your overall goal is to predict a patron's response to the question regarding their intent to recommend the hotel to their friends. Create a variable named `y` from the intent to recommend column. Create a variable named `X` that contains all of the other columns **except `record_id`, `arrival_date`, and `intent_to_recommend`**. (Thought Exercise: Why shouldn't you include those variables as part of `X`?) "
   ]
  },
  {
   "cell_type": "code",
   "execution_count": 17,
   "id": "4055545f",
   "metadata": {
    "deletable": false
   },
   "outputs": [],
   "source": [
    "# YOUR CODE HERE\n",
    "y = hotel_coded.intent_to_recommend\n",
    "X = hotel_coded.drop(columns=['record_id', 'arrival_date', 'intent_to_recommend'])"
   ]
  },
  {
   "cell_type": "code",
   "execution_count": 18,
   "id": "cc2473bc",
   "metadata": {},
   "outputs": [
    {
     "name": "stdout",
     "output_type": "stream",
     "text": [
      "<class 'pandas.core.series.Series'>\n",
      "RangeIndex: 8472 entries, 0 to 8471\n",
      "Series name: intent_to_recommend\n",
      "Non-Null Count  Dtype\n",
      "--------------  -----\n",
      "8472 non-null   int64\n",
      "dtypes: int64(1)\n",
      "memory usage: 66.3 KB\n"
     ]
    }
   ],
   "source": [
    "# view y\n",
    "y.info()"
   ]
  },
  {
   "cell_type": "code",
   "execution_count": 19,
   "id": "70293455",
   "metadata": {},
   "outputs": [
    {
     "name": "stdout",
     "output_type": "stream",
     "text": [
      "<class 'pandas.core.frame.DataFrame'>\n",
      "RangeIndex: 8472 entries, 0 to 8471\n",
      "Data columns (total 9 columns):\n",
      " #   Column                         Non-Null Count  Dtype\n",
      "---  ------                         --------------  -----\n",
      " 0   age                            8472 non-null   int64\n",
      " 1   maintenance_and_upkeep         8472 non-null   int64\n",
      " 2   staff_service_overall          8472 non-null   int64\n",
      " 3   overall_satisfaction           8472 non-null   int64\n",
      " 4   loyalty_program_tier_Basic     8472 non-null   int32\n",
      " 5   loyalty_program_tier_Gold      8472 non-null   int32\n",
      " 6   loyalty_program_tier_Platinum  8472 non-null   int32\n",
      " 7   loyalty_program_tier_Silver    8472 non-null   int32\n",
      " 8   gender_Male                    8472 non-null   int32\n",
      "dtypes: int32(5), int64(4)\n",
      "memory usage: 430.3 KB\n"
     ]
    }
   ],
   "source": [
    "# view X\n",
    "X.info()"
   ]
  },
  {
   "cell_type": "markdown",
   "id": "ade66d10",
   "metadata": {
    "deletable": false,
    "editable": false
   },
   "source": [
    "<hr>"
   ]
  },
  {
   "cell_type": "markdown",
   "id": "4422cbdc",
   "metadata": {
    "deletable": false,
    "editable": false
   },
   "source": [
    "## Step 6\n",
    "Split your data into training and test sets. You should use a training set size of 75% of the data and a random seed of 101. You should use the commonly used names of `y_train`, `y_test`, `X_train`, and `X_test` when splitting the data."
   ]
  },
  {
   "cell_type": "code",
   "execution_count": 20,
   "id": "33ba011f",
   "metadata": {
    "deletable": false
   },
   "outputs": [],
   "source": [
    "# YOUR CODE HERE\n",
    "# import package to split the data\n",
    "from sklearn.model_selection import train_test_split\n",
    "X_train, X_test, y_train, y_test = train_test_split(X, y, test_size=0.25, random_state=101)"
   ]
  },
  {
   "cell_type": "code",
   "execution_count": 21,
   "id": "3d8a5884-d804-42cf-be52-0f40241b355f",
   "metadata": {
    "deletable": false,
    "editable": false
   },
   "outputs": [],
   "source": [
    "# This is a test cell\n",
    "# If **NO** message is printed, it means that the tests passed\n",
    "# One basic test to see if your code works\n",
    "assert_equal(type(y_test), pd.Series, msg='You did not create y_test correctly')"
   ]
  },
  {
   "cell_type": "markdown",
   "id": "3751ddb2",
   "metadata": {
    "deletable": false,
    "editable": false
   },
   "source": [
    "<hr>"
   ]
  },
  {
   "cell_type": "markdown",
   "id": "d7cac0d9",
   "metadata": {
    "deletable": false,
    "editable": false
   },
   "source": [
    "## Step 7\n",
    "Use the `LinearRegression` class from scikit-learn to fit an ordinary least squares model on the **training dataset**. What is the estimated coefficient on the variable representing males? Store the value, **without rounding**, in a variable named `coef_males`."
   ]
  },
  {
   "cell_type": "code",
   "execution_count": 22,
   "id": "91100658",
   "metadata": {
    "deletable": false
   },
   "outputs": [
    {
     "data": {
      "text/plain": [
       "array([-0.00126319,  0.01454387, -0.05843249,  0.85475996,  0.05356864,\n",
       "        0.06871536,  0.10001063,  0.09543392, -0.02106501])"
      ]
     },
     "execution_count": 22,
     "metadata": {},
     "output_type": "execute_result"
    }
   ],
   "source": [
    "# YOUR CODE HERE\n",
    "# bring in LinearRegression package\n",
    "from sklearn.linear_model import LinearRegression\n",
    "\n",
    "reg = LinearRegression()\n",
    "reg.fit(X_train, y_train)\n",
    "\n",
    "# display coefficients\n",
    "reg.coef_"
   ]
  },
  {
   "cell_type": "code",
   "execution_count": 23,
   "id": "59ca5501",
   "metadata": {},
   "outputs": [
    {
     "data": {
      "text/html": [
       "<div>\n",
       "<style scoped>\n",
       "    .dataframe tbody tr th:only-of-type {\n",
       "        vertical-align: middle;\n",
       "    }\n",
       "\n",
       "    .dataframe tbody tr th {\n",
       "        vertical-align: top;\n",
       "    }\n",
       "\n",
       "    .dataframe thead th {\n",
       "        text-align: right;\n",
       "    }\n",
       "</style>\n",
       "<table border=\"1\" class=\"dataframe\">\n",
       "  <thead>\n",
       "    <tr style=\"text-align: right;\">\n",
       "      <th></th>\n",
       "      <th>Coefficient Value</th>\n",
       "    </tr>\n",
       "  </thead>\n",
       "  <tbody>\n",
       "    <tr>\n",
       "      <th>age</th>\n",
       "      <td>-0.001263</td>\n",
       "    </tr>\n",
       "    <tr>\n",
       "      <th>maintenance_and_upkeep</th>\n",
       "      <td>0.014544</td>\n",
       "    </tr>\n",
       "    <tr>\n",
       "      <th>staff_service_overall</th>\n",
       "      <td>-0.058432</td>\n",
       "    </tr>\n",
       "    <tr>\n",
       "      <th>overall_satisfaction</th>\n",
       "      <td>0.854760</td>\n",
       "    </tr>\n",
       "    <tr>\n",
       "      <th>loyalty_program_tier_Basic</th>\n",
       "      <td>0.053569</td>\n",
       "    </tr>\n",
       "    <tr>\n",
       "      <th>loyalty_program_tier_Gold</th>\n",
       "      <td>0.068715</td>\n",
       "    </tr>\n",
       "    <tr>\n",
       "      <th>loyalty_program_tier_Platinum</th>\n",
       "      <td>0.100011</td>\n",
       "    </tr>\n",
       "    <tr>\n",
       "      <th>loyalty_program_tier_Silver</th>\n",
       "      <td>0.095434</td>\n",
       "    </tr>\n",
       "    <tr>\n",
       "      <th>gender_Male</th>\n",
       "      <td>-0.021065</td>\n",
       "    </tr>\n",
       "  </tbody>\n",
       "</table>\n",
       "</div>"
      ],
      "text/plain": [
       "                               Coefficient Value\n",
       "age                                    -0.001263\n",
       "maintenance_and_upkeep                  0.014544\n",
       "staff_service_overall                  -0.058432\n",
       "overall_satisfaction                    0.854760\n",
       "loyalty_program_tier_Basic              0.053569\n",
       "loyalty_program_tier_Gold               0.068715\n",
       "loyalty_program_tier_Platinum           0.100011\n",
       "loyalty_program_tier_Silver             0.095434\n",
       "gender_Male                            -0.021065"
      ]
     },
     "execution_count": 23,
     "metadata": {},
     "output_type": "execute_result"
    }
   ],
   "source": [
    "# make into coefficients DataFrame\n",
    "coefficients_df = pd.DataFrame(\n",
    "data = reg.coef_,\n",
    "index = X_train.columns,\n",
    "columns = ['Coefficient Value'])\n",
    "\n",
    "coefficients_df"
   ]
  },
  {
   "cell_type": "code",
   "execution_count": 24,
   "id": "1f126b06",
   "metadata": {},
   "outputs": [
    {
     "data": {
      "text/plain": [
       "-0.02106501331610483"
      ]
     },
     "execution_count": 24,
     "metadata": {},
     "output_type": "execute_result"
    }
   ],
   "source": [
    "# pull out the estimated coefficient on the variable representing males (gender_Male) without rounding\n",
    "float(coefficients_df.values[8])"
   ]
  },
  {
   "cell_type": "code",
   "execution_count": 25,
   "id": "dff2211d",
   "metadata": {},
   "outputs": [],
   "source": [
    "# store as coef_males\n",
    "coef_males = float(coefficients_df.values[8])"
   ]
  },
  {
   "cell_type": "code",
   "execution_count": 26,
   "id": "53a864f6",
   "metadata": {},
   "outputs": [
    {
     "name": "stdout",
     "output_type": "stream",
     "text": [
      "-0.02106501331610483\n",
      "<class 'float'>\n"
     ]
    }
   ],
   "source": [
    "# confirm not rounded and number dtype\n",
    "print(coef_males)\n",
    "print(type(coef_males))"
   ]
  },
  {
   "cell_type": "code",
   "execution_count": 27,
   "id": "9ec9a75d-34ef-4e1b-82ee-51ba7e568699",
   "metadata": {
    "deletable": false,
    "editable": false
   },
   "outputs": [],
   "source": [
    "# This is a test cell\n",
    "# If **NO** message is printed, it means that the tests passed\n",
    "# One basic test to see if your code works\n",
    "assert_in('coef_males', dir(), msg='You did not name your variable `coef_males` as instructed')"
   ]
  },
  {
   "cell_type": "markdown",
   "id": "4fbb1067",
   "metadata": {
    "deletable": false,
    "editable": false
   },
   "source": [
    "<hr>"
   ]
  },
  {
   "cell_type": "markdown",
   "id": "6a04d84b",
   "metadata": {
    "deletable": false,
    "editable": false
   },
   "source": [
    "## Step 8\n",
    "Calculate the $R^2$, MSE, and RMSE on the **training** set. Store them in the variables named `train_R2`, `train_MSE`, and `train_RMSE`."
   ]
  },
  {
   "cell_type": "code",
   "execution_count": 28,
   "id": "40e3b44f",
   "metadata": {
    "deletable": false
   },
   "outputs": [
    {
     "data": {
      "text/plain": [
       "0.5991001853064454"
      ]
     },
     "execution_count": 28,
     "metadata": {},
     "output_type": "execute_result"
    }
   ],
   "source": [
    "# YOUR CODE HERE\n",
    "from sklearn.linear_model import LinearRegression\n",
    "from sklearn.metrics import r2_score\n",
    "from sklearn.metrics import mean_squared_error\n",
    "\n",
    "# R-Squared (R^2)\n",
    "train_R2 = r2_score(y_train, reg.predict(X_train))\n",
    "train_R2"
   ]
  },
  {
   "cell_type": "code",
   "execution_count": 29,
   "id": "a3d4f414",
   "metadata": {},
   "outputs": [
    {
     "data": {
      "text/plain": [
       "1.8301145300801605"
      ]
     },
     "execution_count": 29,
     "metadata": {},
     "output_type": "execute_result"
    }
   ],
   "source": [
    "# Mean Squared Error (MSE)\n",
    "train_MSE = mean_squared_error(y_train, reg.predict(X_train))\n",
    "train_MSE"
   ]
  },
  {
   "cell_type": "code",
   "execution_count": 30,
   "id": "27fd32f7",
   "metadata": {},
   "outputs": [
    {
     "data": {
      "text/plain": [
       "1.3528172567202712"
      ]
     },
     "execution_count": 30,
     "metadata": {},
     "output_type": "execute_result"
    }
   ],
   "source": [
    "# Root Mean Squared Error\n",
    "import numpy as np\n",
    "train_RMSE = np.sqrt(train_MSE)\n",
    "train_RMSE"
   ]
  },
  {
   "cell_type": "code",
   "execution_count": 31,
   "id": "4d992e6b-35d0-46e8-9781-eedf7f33b300",
   "metadata": {
    "deletable": false,
    "editable": false
   },
   "outputs": [],
   "source": [
    "# This is a test cell\n",
    "# If **NO** message is printed, it means that the tests passed\n",
    "# One basic test to see if your code works\n",
    "assert_in('train_R2', dir(), msg='You did not name your variable `train_R2` as instructed')\n",
    "assert_in('train_MSE', dir(), msg='You did not name your variable `train_MSE` as instructed')\n",
    "assert_in('train_RMSE', dir(), msg='You did not name your variable `train_RMSE` as instructed')"
   ]
  },
  {
   "cell_type": "markdown",
   "id": "554c0fb1",
   "metadata": {
    "deletable": false,
    "editable": false
   },
   "source": [
    "<hr>"
   ]
  },
  {
   "cell_type": "markdown",
   "id": "9425deae",
   "metadata": {
    "deletable": false,
    "editable": false
   },
   "source": [
    "## Step 9\n",
    "Using your fitted model, predict the intent to recommend for the **test** set. Calculate the $R^2$, MSE, and RMSE on the **test** set. Store them in the variables named `test_R2`, `test_MSE`, and `test_RMSE`. "
   ]
  },
  {
   "cell_type": "code",
   "execution_count": 32,
   "id": "f1e76782",
   "metadata": {
    "deletable": false
   },
   "outputs": [],
   "source": [
    "# YOUR CODE HERE\n",
    "# create predication variable 'pred' for predictions\n",
    "pred = reg.predict(X_test)"
   ]
  },
  {
   "cell_type": "code",
   "execution_count": 33,
   "id": "3b686abf",
   "metadata": {},
   "outputs": [
    {
     "data": {
      "text/plain": [
       "0.5932229411830202"
      ]
     },
     "execution_count": 33,
     "metadata": {},
     "output_type": "execute_result"
    }
   ],
   "source": [
    "# R-squared\n",
    "test_R2 = r2_score(y_test, pred)\n",
    "test_R2"
   ]
  },
  {
   "cell_type": "code",
   "execution_count": 34,
   "id": "91e27c3c",
   "metadata": {},
   "outputs": [
    {
     "data": {
      "text/plain": [
       "1.892848692015891"
      ]
     },
     "execution_count": 34,
     "metadata": {},
     "output_type": "execute_result"
    }
   ],
   "source": [
    "# Mean Squared Error\n",
    "test_MSE = mean_squared_error(y_test, pred)\n",
    "test_MSE"
   ]
  },
  {
   "cell_type": "code",
   "execution_count": 35,
   "id": "f408f2b9",
   "metadata": {},
   "outputs": [
    {
     "data": {
      "text/plain": [
       "1.3758083776514414"
      ]
     },
     "execution_count": 35,
     "metadata": {},
     "output_type": "execute_result"
    }
   ],
   "source": [
    "# Root Mean Squared Error\n",
    "test_RMSE = np.sqrt(test_MSE)\n",
    "test_RMSE"
   ]
  },
  {
   "cell_type": "code",
   "execution_count": 36,
   "id": "48eaa26e-816c-4f37-8901-7109074f04b3",
   "metadata": {
    "deletable": false,
    "editable": false
   },
   "outputs": [],
   "source": [
    "# This is a test cell\n",
    "# If **NO** message is printed, it means that the tests passed\n",
    "# One basic test to see if your code works\n",
    "assert_in('test_R2', dir(), msg='You did not name your variable `test_R2` as instructed')\n",
    "assert_in('test_MSE', dir(), msg='You did not name your variable `test_MSE` as instructed')\n",
    "assert_in('test_RMSE', dir(), msg='You did not name your variable `test_RMSE` as instructed')"
   ]
  },
  {
   "cell_type": "markdown",
   "id": "9fea9b15",
   "metadata": {
    "deletable": false,
    "editable": false
   },
   "source": [
    "<hr>"
   ]
  },
  {
   "cell_type": "markdown",
   "id": "5f6fc1f2",
   "metadata": {
    "deletable": false,
    "editable": false
   },
   "source": [
    "## Step 10\n",
    "Using the `statsmodels` package, fit an ordinary least squares model to the training data and examine the results. Store the results in the variable `mlr_results` and print it out. Take a look at the $p$-values for the independent variables. "
   ]
  },
  {
   "cell_type": "code",
   "execution_count": 37,
   "id": "2ebabd2f",
   "metadata": {
    "deletable": false
   },
   "outputs": [],
   "source": [
    "# YOUR CODE HERE\n",
    "# import ols package\n",
    "from statsmodels.formula.api import ols\n",
    "\n",
    "# copy X_train\n",
    "data_full = X_train.copy()\n",
    "\n",
    "# add col called 'intent_to_recommend' from y_train\n",
    "data_full['intent_to_recommend'] = y_train\n",
    "\n",
    "# create the RHS of all the X variables\n",
    "rhs = '+'.join(X_train.columns) # join all the columns in X_train with a plus sign\n",
    "\n",
    "# run ols\n",
    "mlr_results = ols('intent_to_recommend ~'+rhs, data=data_full).fit()"
   ]
  },
  {
   "cell_type": "code",
   "execution_count": 38,
   "id": "28bd4515",
   "metadata": {
    "scrolled": false
   },
   "outputs": [
    {
     "data": {
      "text/html": [
       "<table class=\"simpletable\">\n",
       "<caption>OLS Regression Results</caption>\n",
       "<tr>\n",
       "  <th>Dep. Variable:</th>    <td>intent_to_recommend</td> <th>  R-squared:         </th> <td>   0.599</td> \n",
       "</tr>\n",
       "<tr>\n",
       "  <th>Model:</th>                    <td>OLS</td>         <th>  Adj. R-squared:    </th> <td>   0.599</td> \n",
       "</tr>\n",
       "<tr>\n",
       "  <th>Method:</th>              <td>Least Squares</td>    <th>  F-statistic:       </th> <td>   1053.</td> \n",
       "</tr>\n",
       "<tr>\n",
       "  <th>Date:</th>              <td>Mon, 11 Dec 2023</td>   <th>  Prob (F-statistic):</th>  <td>  0.00</td>  \n",
       "</tr>\n",
       "<tr>\n",
       "  <th>Time:</th>                  <td>12:06:17</td>       <th>  Log-Likelihood:    </th> <td> -10936.</td> \n",
       "</tr>\n",
       "<tr>\n",
       "  <th>No. Observations:</th>       <td>  6354</td>        <th>  AIC:               </th> <td>2.189e+04</td>\n",
       "</tr>\n",
       "<tr>\n",
       "  <th>Df Residuals:</th>           <td>  6344</td>        <th>  BIC:               </th> <td>2.196e+04</td>\n",
       "</tr>\n",
       "<tr>\n",
       "  <th>Df Model:</th>               <td>     9</td>        <th>                     </th>     <td> </td>    \n",
       "</tr>\n",
       "<tr>\n",
       "  <th>Covariance Type:</th>       <td>nonrobust</td>      <th>                     </th>     <td> </td>    \n",
       "</tr>\n",
       "</table>\n",
       "<table class=\"simpletable\">\n",
       "<tr>\n",
       "                <td></td>                   <th>coef</th>     <th>std err</th>      <th>t</th>      <th>P>|t|</th>  <th>[0.025</th>    <th>0.975]</th>  \n",
       "</tr>\n",
       "<tr>\n",
       "  <th>Intercept</th>                     <td>    1.0931</td> <td>    0.111</td> <td>    9.815</td> <td> 0.000</td> <td>    0.875</td> <td>    1.311</td>\n",
       "</tr>\n",
       "<tr>\n",
       "  <th>age</th>                           <td>   -0.0013</td> <td>    0.001</td> <td>   -1.149</td> <td> 0.251</td> <td>   -0.003</td> <td>    0.001</td>\n",
       "</tr>\n",
       "<tr>\n",
       "  <th>maintenance_and_upkeep</th>        <td>    0.0145</td> <td>    0.016</td> <td>    0.922</td> <td> 0.357</td> <td>   -0.016</td> <td>    0.045</td>\n",
       "</tr>\n",
       "<tr>\n",
       "  <th>staff_service_overall</th>         <td>   -0.0584</td> <td>    0.019</td> <td>   -3.106</td> <td> 0.002</td> <td>   -0.095</td> <td>   -0.022</td>\n",
       "</tr>\n",
       "<tr>\n",
       "  <th>overall_satisfaction</th>          <td>    0.8548</td> <td>    0.013</td> <td>   65.208</td> <td> 0.000</td> <td>    0.829</td> <td>    0.880</td>\n",
       "</tr>\n",
       "<tr>\n",
       "  <th>loyalty_program_tier_Basic</th>    <td>    0.0536</td> <td>    0.038</td> <td>    1.398</td> <td> 0.162</td> <td>   -0.022</td> <td>    0.129</td>\n",
       "</tr>\n",
       "<tr>\n",
       "  <th>loyalty_program_tier_Gold</th>     <td>    0.0687</td> <td>    0.075</td> <td>    0.918</td> <td> 0.359</td> <td>   -0.078</td> <td>    0.215</td>\n",
       "</tr>\n",
       "<tr>\n",
       "  <th>loyalty_program_tier_Platinum</th> <td>    0.1000</td> <td>    0.072</td> <td>    1.386</td> <td> 0.166</td> <td>   -0.041</td> <td>    0.241</td>\n",
       "</tr>\n",
       "<tr>\n",
       "  <th>loyalty_program_tier_Silver</th>   <td>    0.0954</td> <td>    0.066</td> <td>    1.449</td> <td> 0.147</td> <td>   -0.034</td> <td>    0.225</td>\n",
       "</tr>\n",
       "<tr>\n",
       "  <th>gender_Male</th>                   <td>   -0.0211</td> <td>    0.034</td> <td>   -0.619</td> <td> 0.536</td> <td>   -0.088</td> <td>    0.046</td>\n",
       "</tr>\n",
       "</table>\n",
       "<table class=\"simpletable\">\n",
       "<tr>\n",
       "  <th>Omnibus:</th>       <td>210.624</td> <th>  Durbin-Watson:     </th> <td>   2.000</td>\n",
       "</tr>\n",
       "<tr>\n",
       "  <th>Prob(Omnibus):</th> <td> 0.000</td>  <th>  Jarque-Bera (JB):  </th> <td> 117.720</td>\n",
       "</tr>\n",
       "<tr>\n",
       "  <th>Skew:</th>          <td>-0.168</td>  <th>  Prob(JB):          </th> <td>2.74e-26</td>\n",
       "</tr>\n",
       "<tr>\n",
       "  <th>Kurtosis:</th>      <td> 2.424</td>  <th>  Cond. No.          </th> <td>    424.</td>\n",
       "</tr>\n",
       "</table><br/><br/>Notes:<br/>[1] Standard Errors assume that the covariance matrix of the errors is correctly specified."
      ],
      "text/plain": [
       "<class 'statsmodels.iolib.summary.Summary'>\n",
       "\"\"\"\n",
       "                             OLS Regression Results                            \n",
       "===============================================================================\n",
       "Dep. Variable:     intent_to_recommend   R-squared:                       0.599\n",
       "Model:                             OLS   Adj. R-squared:                  0.599\n",
       "Method:                  Least Squares   F-statistic:                     1053.\n",
       "Date:                 Mon, 11 Dec 2023   Prob (F-statistic):               0.00\n",
       "Time:                         12:06:17   Log-Likelihood:                -10936.\n",
       "No. Observations:                 6354   AIC:                         2.189e+04\n",
       "Df Residuals:                     6344   BIC:                         2.196e+04\n",
       "Df Model:                            9                                         \n",
       "Covariance Type:             nonrobust                                         \n",
       "=================================================================================================\n",
       "                                    coef    std err          t      P>|t|      [0.025      0.975]\n",
       "-------------------------------------------------------------------------------------------------\n",
       "Intercept                         1.0931      0.111      9.815      0.000       0.875       1.311\n",
       "age                              -0.0013      0.001     -1.149      0.251      -0.003       0.001\n",
       "maintenance_and_upkeep            0.0145      0.016      0.922      0.357      -0.016       0.045\n",
       "staff_service_overall            -0.0584      0.019     -3.106      0.002      -0.095      -0.022\n",
       "overall_satisfaction              0.8548      0.013     65.208      0.000       0.829       0.880\n",
       "loyalty_program_tier_Basic        0.0536      0.038      1.398      0.162      -0.022       0.129\n",
       "loyalty_program_tier_Gold         0.0687      0.075      0.918      0.359      -0.078       0.215\n",
       "loyalty_program_tier_Platinum     0.1000      0.072      1.386      0.166      -0.041       0.241\n",
       "loyalty_program_tier_Silver       0.0954      0.066      1.449      0.147      -0.034       0.225\n",
       "gender_Male                      -0.0211      0.034     -0.619      0.536      -0.088       0.046\n",
       "==============================================================================\n",
       "Omnibus:                      210.624   Durbin-Watson:                   2.000\n",
       "Prob(Omnibus):                  0.000   Jarque-Bera (JB):              117.720\n",
       "Skew:                          -0.168   Prob(JB):                     2.74e-26\n",
       "Kurtosis:                       2.424   Cond. No.                         424.\n",
       "==============================================================================\n",
       "\n",
       "Notes:\n",
       "[1] Standard Errors assume that the covariance matrix of the errors is correctly specified.\n",
       "\"\"\""
      ]
     },
     "execution_count": 38,
     "metadata": {},
     "output_type": "execute_result"
    }
   ],
   "source": [
    "# view\n",
    "mlr_results.summary()"
   ]
  },
  {
   "cell_type": "code",
   "execution_count": 39,
   "id": "70977d25",
   "metadata": {},
   "outputs": [
    {
     "name": "stdout",
     "output_type": "stream",
     "text": [
      "<class 'statsmodels.regression.linear_model.RegressionResultsWrapper'>\n"
     ]
    }
   ],
   "source": [
    "print(type(mlr_results))"
   ]
  },
  {
   "cell_type": "code",
   "execution_count": 40,
   "id": "537eaa4f",
   "metadata": {},
   "outputs": [],
   "source": [
    "# p-values <0.05: staff_service_overall, overall_satisfaction"
   ]
  },
  {
   "cell_type": "code",
   "execution_count": 41,
   "id": "d614797a-bf69-4bfa-bc8b-ce6a213e2d22",
   "metadata": {
    "deletable": false,
    "editable": false
   },
   "outputs": [],
   "source": [
    "# This is a test cell\n",
    "# If **NO** message is printed, it means that the tests passed\n",
    "# One basic test to see if your code works\n",
    "assert_in('mlr_results', dir(), msg='You did not name the variable `mlr_results` as instructed')"
   ]
  },
  {
   "cell_type": "markdown",
   "id": "5da690cd",
   "metadata": {
    "deletable": false,
    "editable": false
   },
   "source": [
    "<hr>"
   ]
  },
  {
   "cell_type": "markdown",
   "id": "427ff84f",
   "metadata": {
    "deletable": false,
    "editable": false
   },
   "source": [
    "## Step 11\n",
    "Using only variables that had a $p$-value < 0.05, fit a new ordinary least squares model to the training data and examine the results. Store these new results in variable named `second_mlr_results` and print it out."
   ]
  },
  {
   "cell_type": "code",
   "execution_count": 42,
   "id": "784798ed",
   "metadata": {
    "deletable": false
   },
   "outputs": [],
   "source": [
    "# YOUR CODE HERE\n",
    "# remove all but staff_service_overall and overall_satisfaction first\n",
    "data_full_second = data_full.drop(columns=['age', 'maintenance_and_upkeep', 'loyalty_program_tier_Basic',\n",
    "                                          'loyalty_program_tier_Gold', 'loyalty_program_tier_Platinum', \n",
    "                                          'loyalty_program_tier_Silver', 'gender_Male'])"
   ]
  },
  {
   "cell_type": "code",
   "execution_count": 43,
   "id": "a39c37ac",
   "metadata": {},
   "outputs": [
    {
     "data": {
      "text/html": [
       "<div>\n",
       "<style scoped>\n",
       "    .dataframe tbody tr th:only-of-type {\n",
       "        vertical-align: middle;\n",
       "    }\n",
       "\n",
       "    .dataframe tbody tr th {\n",
       "        vertical-align: top;\n",
       "    }\n",
       "\n",
       "    .dataframe thead th {\n",
       "        text-align: right;\n",
       "    }\n",
       "</style>\n",
       "<table border=\"1\" class=\"dataframe\">\n",
       "  <thead>\n",
       "    <tr style=\"text-align: right;\">\n",
       "      <th></th>\n",
       "      <th>staff_service_overall</th>\n",
       "      <th>overall_satisfaction</th>\n",
       "      <th>intent_to_recommend</th>\n",
       "    </tr>\n",
       "  </thead>\n",
       "  <tbody>\n",
       "    <tr>\n",
       "      <th>1962</th>\n",
       "      <td>8</td>\n",
       "      <td>8</td>\n",
       "      <td>7</td>\n",
       "    </tr>\n",
       "    <tr>\n",
       "      <th>3827</th>\n",
       "      <td>9</td>\n",
       "      <td>8</td>\n",
       "      <td>5</td>\n",
       "    </tr>\n",
       "    <tr>\n",
       "      <th>7235</th>\n",
       "      <td>8</td>\n",
       "      <td>9</td>\n",
       "      <td>10</td>\n",
       "    </tr>\n",
       "    <tr>\n",
       "      <th>1672</th>\n",
       "      <td>8</td>\n",
       "      <td>7</td>\n",
       "      <td>5</td>\n",
       "    </tr>\n",
       "    <tr>\n",
       "      <th>1221</th>\n",
       "      <td>1</td>\n",
       "      <td>2</td>\n",
       "      <td>1</td>\n",
       "    </tr>\n",
       "    <tr>\n",
       "      <th>...</th>\n",
       "      <td>...</td>\n",
       "      <td>...</td>\n",
       "      <td>...</td>\n",
       "    </tr>\n",
       "    <tr>\n",
       "      <th>599</th>\n",
       "      <td>5</td>\n",
       "      <td>3</td>\n",
       "      <td>7</td>\n",
       "    </tr>\n",
       "    <tr>\n",
       "      <th>5695</th>\n",
       "      <td>8</td>\n",
       "      <td>5</td>\n",
       "      <td>5</td>\n",
       "    </tr>\n",
       "    <tr>\n",
       "      <th>8006</th>\n",
       "      <td>7</td>\n",
       "      <td>7</td>\n",
       "      <td>7</td>\n",
       "    </tr>\n",
       "    <tr>\n",
       "      <th>1361</th>\n",
       "      <td>9</td>\n",
       "      <td>9</td>\n",
       "      <td>9</td>\n",
       "    </tr>\n",
       "    <tr>\n",
       "      <th>1547</th>\n",
       "      <td>8</td>\n",
       "      <td>6</td>\n",
       "      <td>5</td>\n",
       "    </tr>\n",
       "  </tbody>\n",
       "</table>\n",
       "<p>6354 rows × 3 columns</p>\n",
       "</div>"
      ],
      "text/plain": [
       "      staff_service_overall  overall_satisfaction  intent_to_recommend\n",
       "1962                      8                     8                    7\n",
       "3827                      9                     8                    5\n",
       "7235                      8                     9                   10\n",
       "1672                      8                     7                    5\n",
       "1221                      1                     2                    1\n",
       "...                     ...                   ...                  ...\n",
       "599                       5                     3                    7\n",
       "5695                      8                     5                    5\n",
       "8006                      7                     7                    7\n",
       "1361                      9                     9                    9\n",
       "1547                      8                     6                    5\n",
       "\n",
       "[6354 rows x 3 columns]"
      ]
     },
     "execution_count": 43,
     "metadata": {},
     "output_type": "execute_result"
    }
   ],
   "source": [
    "# confirm\n",
    "data_full_second"
   ]
  },
  {
   "cell_type": "code",
   "execution_count": 44,
   "id": "b799066d",
   "metadata": {},
   "outputs": [],
   "source": [
    "# create the RHS of all the remaining X variables\n",
    "## Town Hall Question - in join(used data_full_second instead of X because no longer need old cols) - correct way?\n",
    "rhs_second = '+'.join(data_full_second.columns.drop('intent_to_recommend')) # join all the columns in X_train with a plus sign\n",
    "\n",
    "# run ols\n",
    "second_mlr_results = ols('intent_to_recommend ~'+rhs_second, data=data_full_second).fit()"
   ]
  },
  {
   "cell_type": "code",
   "execution_count": 45,
   "id": "057b204c",
   "metadata": {},
   "outputs": [
    {
     "data": {
      "text/html": [
       "<table class=\"simpletable\">\n",
       "<caption>OLS Regression Results</caption>\n",
       "<tr>\n",
       "  <th>Dep. Variable:</th>    <td>intent_to_recommend</td> <th>  R-squared:         </th> <td>   0.599</td> \n",
       "</tr>\n",
       "<tr>\n",
       "  <th>Model:</th>                    <td>OLS</td>         <th>  Adj. R-squared:    </th> <td>   0.599</td> \n",
       "</tr>\n",
       "<tr>\n",
       "  <th>Method:</th>              <td>Least Squares</td>    <th>  F-statistic:       </th> <td>   4737.</td> \n",
       "</tr>\n",
       "<tr>\n",
       "  <th>Date:</th>              <td>Mon, 11 Dec 2023</td>   <th>  Prob (F-statistic):</th>  <td>  0.00</td>  \n",
       "</tr>\n",
       "<tr>\n",
       "  <th>Time:</th>                  <td>12:06:17</td>       <th>  Log-Likelihood:    </th> <td> -10940.</td> \n",
       "</tr>\n",
       "<tr>\n",
       "  <th>No. Observations:</th>       <td>  6354</td>        <th>  AIC:               </th> <td>2.189e+04</td>\n",
       "</tr>\n",
       "<tr>\n",
       "  <th>Df Residuals:</th>           <td>  6351</td>        <th>  BIC:               </th> <td>2.191e+04</td>\n",
       "</tr>\n",
       "<tr>\n",
       "  <th>Df Model:</th>               <td>     2</td>        <th>                     </th>     <td> </td>    \n",
       "</tr>\n",
       "<tr>\n",
       "  <th>Covariance Type:</th>       <td>nonrobust</td>      <th>                     </th>     <td> </td>    \n",
       "</tr>\n",
       "</table>\n",
       "<table class=\"simpletable\">\n",
       "<tr>\n",
       "            <td></td>               <th>coef</th>     <th>std err</th>      <th>t</th>      <th>P>|t|</th>  <th>[0.025</th>    <th>0.975]</th>  \n",
       "</tr>\n",
       "<tr>\n",
       "  <th>Intercept</th>             <td>    1.0770</td> <td>    0.076</td> <td>   14.081</td> <td> 0.000</td> <td>    0.927</td> <td>    1.227</td>\n",
       "</tr>\n",
       "<tr>\n",
       "  <th>staff_service_overall</th> <td>   -0.0469</td> <td>    0.014</td> <td>   -3.320</td> <td> 0.001</td> <td>   -0.075</td> <td>   -0.019</td>\n",
       "</tr>\n",
       "<tr>\n",
       "  <th>overall_satisfaction</th>  <td>    0.8546</td> <td>    0.013</td> <td>   65.249</td> <td> 0.000</td> <td>    0.829</td> <td>    0.880</td>\n",
       "</tr>\n",
       "</table>\n",
       "<table class=\"simpletable\">\n",
       "<tr>\n",
       "  <th>Omnibus:</th>       <td>208.158</td> <th>  Durbin-Watson:     </th> <td>   1.999</td>\n",
       "</tr>\n",
       "<tr>\n",
       "  <th>Prob(Omnibus):</th> <td> 0.000</td>  <th>  Jarque-Bera (JB):  </th> <td> 116.945</td>\n",
       "</tr>\n",
       "<tr>\n",
       "  <th>Skew:</th>          <td>-0.168</td>  <th>  Prob(JB):          </th> <td>4.03e-26</td>\n",
       "</tr>\n",
       "<tr>\n",
       "  <th>Kurtosis:</th>      <td> 2.427</td>  <th>  Cond. No.          </th> <td>    51.7</td>\n",
       "</tr>\n",
       "</table><br/><br/>Notes:<br/>[1] Standard Errors assume that the covariance matrix of the errors is correctly specified."
      ],
      "text/plain": [
       "<class 'statsmodels.iolib.summary.Summary'>\n",
       "\"\"\"\n",
       "                             OLS Regression Results                            \n",
       "===============================================================================\n",
       "Dep. Variable:     intent_to_recommend   R-squared:                       0.599\n",
       "Model:                             OLS   Adj. R-squared:                  0.599\n",
       "Method:                  Least Squares   F-statistic:                     4737.\n",
       "Date:                 Mon, 11 Dec 2023   Prob (F-statistic):               0.00\n",
       "Time:                         12:06:17   Log-Likelihood:                -10940.\n",
       "No. Observations:                 6354   AIC:                         2.189e+04\n",
       "Df Residuals:                     6351   BIC:                         2.191e+04\n",
       "Df Model:                            2                                         \n",
       "Covariance Type:             nonrobust                                         \n",
       "=========================================================================================\n",
       "                            coef    std err          t      P>|t|      [0.025      0.975]\n",
       "-----------------------------------------------------------------------------------------\n",
       "Intercept                 1.0770      0.076     14.081      0.000       0.927       1.227\n",
       "staff_service_overall    -0.0469      0.014     -3.320      0.001      -0.075      -0.019\n",
       "overall_satisfaction      0.8546      0.013     65.249      0.000       0.829       0.880\n",
       "==============================================================================\n",
       "Omnibus:                      208.158   Durbin-Watson:                   1.999\n",
       "Prob(Omnibus):                  0.000   Jarque-Bera (JB):              116.945\n",
       "Skew:                          -0.168   Prob(JB):                     4.03e-26\n",
       "Kurtosis:                       2.427   Cond. No.                         51.7\n",
       "==============================================================================\n",
       "\n",
       "Notes:\n",
       "[1] Standard Errors assume that the covariance matrix of the errors is correctly specified.\n",
       "\"\"\""
      ]
     },
     "execution_count": 45,
     "metadata": {},
     "output_type": "execute_result"
    }
   ],
   "source": [
    "# view\n",
    "second_mlr_results.summary()"
   ]
  },
  {
   "cell_type": "code",
   "execution_count": 46,
   "id": "87bfc17d-884e-4df0-bddd-493e2f1945d2",
   "metadata": {
    "deletable": false,
    "editable": false
   },
   "outputs": [],
   "source": [
    "# This is a test cell\n",
    "# If **NO** message is printed, it means that the tests passed\n",
    "# One basic test to see if your code works\n",
    "assert_in('second_mlr_results', dir(), msg='You did not name the variable `second_mlr_results` as instructed')"
   ]
  },
  {
   "cell_type": "markdown",
   "id": "70caa7c0",
   "metadata": {
    "deletable": false,
    "editable": false
   },
   "source": [
    "<hr>"
   ]
  },
  {
   "cell_type": "markdown",
   "id": "c3c20fe4",
   "metadata": {
    "deletable": false,
    "editable": false
   },
   "source": [
    "## Final Step\n",
    "Compare the results you found in Step 10 and Step 11. In the markdown cell below, carefully explain which model you would use and and why."
   ]
  },
  {
   "cell_type": "markdown",
   "id": "46f45390",
   "metadata": {},
   "source": [
    "In Step 10, I had an R-Squared value of: 0.599 and Adjusted R-Squared value of: 0.599 as well. This indicates that the model cuirrently explains approximately 59.9% of the variance with the X-variables of age, maintenance_upkeep, staff_service_overall, overall_satisfaction, loyalty_program_tier_Basic, loyalty_program_tier_Gold, loyalty_program_tier_Platinum, loyalty_program_tier_Silver, and gender_Male. There were two statistically significant variables from Step 10: staff_service_overall and overall_satisfaction as the p-values were <0.05 and overall_satisfaction was actually statistically significiant at the P<.001 level. \n",
    "\n",
    "In Step 11, I had an R-Squared value of: 0.599 and Adjusted R-Squared value of: 0.599 as well. This indicates thatt the model currently explains 59.9% of the variance with the X-variables of staff_service_overall and overall_satisfaction. To further indicate the best model (if historical context required) we could remove the least significant variables first (highest p-values) until the model potentially remained with only statistically significant variables at the p<.05 level. Therefore, I would remain with the Step 10 model because there may be variables that become statistically significant if we continue to eliminate the least significant variables first until all  variables are significant. "
   ]
  },
  {
   "cell_type": "markdown",
   "id": "08b4d942",
   "metadata": {
    "deletable": false,
    "editable": false
   },
   "source": []
  },
  {
   "cell_type": "markdown",
   "id": "202fa47c",
   "metadata": {
    "deletable": false,
    "editable": false
   },
   "source": [
    "**&copy; 2022 - Present: Matthew D. Dean, Ph.D.   \n",
    "Clinical Associate Professor of Business Analytics at William \\& Mary.**"
   ]
  }
 ],
 "metadata": {
  "kernelspec": {
   "display_name": "Python 3 (ipykernel)",
   "language": "python",
   "name": "python3"
  },
  "language_info": {
   "codemirror_mode": {
    "name": "ipython",
    "version": 3
   },
   "file_extension": ".py",
   "mimetype": "text/x-python",
   "name": "python",
   "nbconvert_exporter": "python",
   "pygments_lexer": "ipython3",
   "version": "3.9.13"
  }
 },
 "nbformat": 4,
 "nbformat_minor": 5
}
